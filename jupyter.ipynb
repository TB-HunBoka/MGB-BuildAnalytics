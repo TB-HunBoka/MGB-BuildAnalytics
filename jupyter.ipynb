{
 "cells": [
  {
   "cell_type": "code",
   "execution_count": 1,
   "metadata": {},
   "outputs": [],
   "source": [
    "import random\n",
    "import re\n",
    "import numpy as np\n",
    "import pandas as pd\n",
    "import items"
   ]
  },
  {
   "cell_type": "code",
   "execution_count": 2,
   "metadata": {},
   "outputs": [],
   "source": [
    "np.set_printoptions(linewidth=150)"
   ]
  },
  {
   "cell_type": "code",
   "execution_count": 71,
   "metadata": {},
   "outputs": [],
   "source": [
    "base_damage = 5\n",
    "build1 = '109060606060606060606060601050606010010010010010010010010010010010010010010010010010050551051010050051010043040010010010010043300040552010550552010572430010010010050301041550552010550552010562420010010010240242010550552010550552010562410010010010240242010550552010550552010562360010010010240242010550552010550552010562210010010010240242010570552010550552010562260010010010240242010550552010550552010552160010010010053052010280552010550552010552160010010010010010010280042551041572010552510010010010010030010053153153651572010552480010010010010053363163163453343052010642470010010010010010010010010010010010010010020010010'\n",
    "# aoe ys farmer\n",
    "build2 = '105050506050705060501050605050506010010010010010010010010010010010010010010010043243243413363213243243243153040010010010242043563563563563563563563040620010010010242562043553553553553553040560240010010010242562552043543553553040550560440010010010242562552042541451051550550560620010010010242562552010010010162550550560160010010010572562552010010010162550550560160010010010572562552010030010362550550560160010010010572562552010053433052550550560160010010010572562042551551551551041550560510010010010562042561561551551551551041560470010010010042561561571571561561561561041480010010010010010010010010010010010010010020010010'\n",
    "# mostly empty:\n",
    "build3 = '105050506050705060501050605050506010010010010010010010010010010010010010010010000000000000000000000000000000000010010010000000000000000000000000000000000010010010000000000000000000000000000000000010010010000000000000000000000000000000000010010010000000000000000000000000000000000010010010000000000010010010000000000000000010010010000000000010010010000000000000000010010010000000000010030010000000000000000010010010000000000010053000000000000203040010010010000000000000000000000000000000000010010010000000000000000000000000000000200010010010000000000000000000000000000000060010010010010010010010010010010010010010020010010'\n",
    "# legenradies:\n",
    "build4 = '105050506050705060501050605050506010010010010010010010010010010010010010010010043583573563553543533523000513040010010010592000000000000000000000000000500010010010602000000000000000000000000000490010010010612000000000000000000000000000400010010010622000000000000000000000000000470010010010632000000010010010000000000000420010010010000000000010010010000000000000450010010010000000000010030010000000000000440010010010000000000010000000000000000000430010010010042000000000041000000000000000460010010010000000000000000000000000000000410010010010000000000000000000000000000000480010010010010010010010010010010010010010020010010'\n",
    "\n",
    "#portal:\n",
    "build5 = '105050506050705060501050605050506010010010010010010010010010010010010010010010000000000000000000000000000000000010010010000000000000000000000000000000000010010010000000000000000000000000000000000010010010000000000000000000000000000000000010010010000000000000000000000000000000000010010010000000000010010010000000000000000010010010000000000010010010000000000000000010010010000000000010030010000000000000000010010010000000000010000000000000000000000010010010000000000000652000000000000000000010010010000000000000000000000000000000640010010010000000000000000000000000000000000010010010010010010010010010010010010010020010010'\n",
    "\n",
    "# to the wall\n",
    "build6 = '105050506050705060501050605050506010010010010010010010010010010010010010010010000000000000000000000000000000000010010010000000000000000000000000000000000010010010000000000000000000000000000000000010010010000000000000000000000000000000000010010010000000000000000000000000000000000010010010000000000010010010000000000000000010010010000000000010010010000000000000000010010010000000000010030010000000000000000010010010000000000010000000000000000000000010010010000000000000652000000000000000000010010010000000000000000000000000000000010010010010000000000000000000000000000000000010010010010010010010010010010010010010020010010'\n",
    "\n",
    "# every item\n",
    "build7 = '105050505050705050501050505050506010010010010010010010010010010010010010010010143000000000000283343253263363000040010010000043000333323383243193183230640000010010000000043000513503493000040000000390010010000352000043000000633040000000110210010010000162522042000000051620400000120200010010000272532010010010000610470000070310010010000372542010010010000600420000100130010010000292552010030010000590450000080000010010000302000010053000052580440000090652010010000000042000561571000041000000150010010010000042000481411461431000041000060010010010172000000000000000000000000221000010010010010010010010010010010010010010020010010'\n",
    "\n",
    "build = build6"
   ]
  },
  {
   "cell_type": "markdown",
   "metadata": {},
   "source": [
    "def parse_build_old(build):\n",
    "    custom = build[0:1] # custom ship Y/N\n",
    "    custom_blocks = build[1:33] # custom blocks\n",
    "    custom_block_list = re.findall('..?',custom_blocks)\n",
    "    custom_block_name_2d_array = np.reshape(custom_block_mapper(custom_block_list), (4,4))\n",
    "    custom_block_id_2d_array = np.reshape(custom_block_list, (4,4))\n",
    "    items = build[33:] #items\n",
    "    items_and_orientation = re.findall('...?',items)\n",
    "    item_list = pd.Series(items_and_orientation).str[0:2].values\n",
    "    item_list_named_2d_array = ...\n",
    "    item_list_2d_array = np.reshape(item_list, (14,14))\n",
    "    return custom_block_list, custom_block_name_2d_array, custom_block_id_2d_array, item_list, item_list_2d_array"
   ]
  },
  {
   "cell_type": "code",
   "execution_count": 4,
   "metadata": {},
   "outputs": [],
   "source": [
    "def parse_build(build):\n",
    "    custom = build[0:1] # custom ship Y/N\n",
    "    custom_blocks = build[1:33] # custom blocks\n",
    "    custom_block_list = re.findall('..?',custom_blocks)\n",
    "    custom_block_name_2d_array = np.reshape(custom_block_mapper(custom_block_list), (4,4))\n",
    "    custom_block_id_2d_array = np.reshape(custom_block_list, (4,4))\n",
    "    items = build[33:] #items\n",
    "    items_and_orientation = re.findall('...?',items)\n",
    "    items_and_orientation_2d_array = np.reshape(items_and_orientation, (14,14))\n",
    "#     item_list = pd.Series(items_and_orientation).str[0:2].values\n",
    "#     item_list_named_2d_array = ...\n",
    "#     item_list_2d_array = np.reshape(item_list, (14,14))\n",
    "    return custom_block_list, custom_block_name_2d_array, custom_block_id_2d_array, items_and_orientation_2d_array"
   ]
  },
  {
   "cell_type": "code",
   "execution_count": 5,
   "metadata": {},
   "outputs": [],
   "source": [
    "def chance(percentage):\n",
    "    chance = random.randint(0,percentage)\n",
    "    return chance"
   ]
  },
  {
   "cell_type": "code",
   "execution_count": 6,
   "metadata": {},
   "outputs": [],
   "source": [
    "def custom_block_mapper(custom_block_number):\n",
    "    custom_block_mapping = {'01':'ejection_up', '02':'auto_fly', '03':'second_try'\n",
    "                        , '04':'manual_burst', '05':'3x3', '06':'blue'\n",
    "                        , '07':'longer_countdown', '08':'light_green', '09':'skipp'\n",
    "                        , '10':'10%_more', '11':'ejection_side', '12':'red_after_wave'}\n",
    "    custom_block_element_name = [custom_block_mapping[x] for x in custom_block_number]\n",
    "    return custom_block_element_name"
   ]
  },
  {
   "cell_type": "code",
   "execution_count": 75,
   "metadata": {},
   "outputs": [],
   "source": [
    "def item_name_mapper(item):\n",
    "    item_mappings = {'00': 'empty_slot', '01':'solid_block', '02': 'generator', '03':'ejector',\n",
    "                     '04':'turn_right', '05':'turn_left', '06':'add_1_damage', '15':'speed_up',\n",
    "                     '09':'spread_left', '08':'large_spread', '10':'spread_right', '07':'small_spread',\n",
    "                     '12':'curve_left', '11':'random_curve', '13':'curve_right', '31':'slow_down',\n",
    "                     '20':'x2_damage', '21':'x10_damage', '39':'random_damage', '36':'charge',\n",
    "                     '26':'return_bounce', '25':'random_bounce', '34':'ricochet', '28':'double_lifetime',\n",
    "                     '14':'2_way_split', '17':'3_way_split', '22':'2_way_random_split', '23':'3_way_random_split',\n",
    "                     '18':'death_pierce', '19':'pirce', '24':'circle_aoe', '38':'rectangle_aoe',\n",
    "                     '32':'magnet', '33':'align_direction', '35':'line_magnet', '16':'add_projectile',\n",
    "                     '27':'shoot_upward', '37':'shoot_sideways', '29':'money_cross', '30':'damage_cross',\n",
    "                     '48':'tier_damage', '41':'damage_comeback', '46':'evolved_damage', '43':'damage_stockpile',\n",
    "                     '44':'slow_burn', '45':'combine_10', '42':'crisscross', '47':'guided_damage',\n",
    "                     '40':'add_100_damage', '49':'ejector_damage', '50':'sparse_damage', '51':'clone',\n",
    "                     '52': 'shield_piercing', '53': 'armor_piercing', '54': 'double_piercing', '55': 'charged_round',\n",
    "                     '56': 'thermit_round', '57': 'plutonium_round', '58': 'protonic', '59': 'incendiary',\n",
    "                     '60': 'energy_siphon', '61': 'energy_disrupt', '62': 'void_resistance', '63': 'void_inoculation',\n",
    "                     '64': 'input_portal', '65': 'output_portal'\n",
    "    }\n",
    "    item_name = item_mappings[item]\n",
    "    return item_name"
   ]
  },
  {
   "cell_type": "code",
   "execution_count": 8,
   "metadata": {},
   "outputs": [],
   "source": [
    "# class item:\n",
    "#     def __init__(self, id, orientation):\n",
    "#         self.id = id\n",
    "#         self.orientation = orientation"
   ]
  },
  {
   "cell_type": "code",
   "execution_count": 9,
   "metadata": {},
   "outputs": [],
   "source": [
    "def get_starting_position(items_and_orientation_2d_array):\n",
    "    starting_position = np.where(items_and_orientation_2d_array=='020')\n",
    "    x0 = np.asarray(starting_position).T[0][0]\n",
    "    y0 = np.asarray(starting_position).T[0][1]\n",
    "    return x0, y0"
   ]
  },
  {
   "cell_type": "code",
   "execution_count": 10,
   "metadata": {},
   "outputs": [],
   "source": [
    "def find_portal_exit(items_and_orientation_2d_array):\n",
    "    portal_exit_position = np.where((items_and_orientation_2d_array >= '650') & (items_and_orientation_2d_array <= '653'))\n",
    "    xp = np.asarray(portal_exit_position).T[0][0]\n",
    "    yp = np.asarray(portal_exit_position).T[0][1]\n",
    "    return xp,yp"
   ]
  },
  {
   "cell_type": "code",
   "execution_count": 11,
   "metadata": {},
   "outputs": [],
   "source": [
    "directions = (0,1,2,3)\n",
    "def turn(id: int, turn: str):\n",
    "    # 0 - up, 1 - right, 2 - down, 3 - left\n",
    "    match turn:\n",
    "        case 'turn_left':\n",
    "            id -= 1\n",
    "            if id < 0:\n",
    "                id = 3\n",
    "        case 'turn_right':\n",
    "            id += 1\n",
    "            if id > 3:\n",
    "                id = 0\n",
    "    return directions[id]"
   ]
  },
  {
   "cell_type": "code",
   "execution_count": 12,
   "metadata": {},
   "outputs": [],
   "source": [
    "def next_coordination(x_coord, y_coord, item_with_orientation, previous_direction=None):\n",
    "    item = item_with_orientation[0:2]\n",
    "    orientation = int(item_with_orientation[2])\n",
    "    match item:\n",
    "        case '04':\n",
    "            direction = turn(orientation,'turn_left')\n",
    "        case '05':\n",
    "            direction = turn(orientation,'turn_right')\n",
    "        case '00':\n",
    "            direction = previous_direction\n",
    "        case '02':\n",
    "            direction = 0\n",
    "        case other:\n",
    "            direction = previous_direction\n",
    "    match int(direction):\n",
    "        case 0:\n",
    "            x_coord -= 1\n",
    "        case 1:\n",
    "            y_coord += 1\n",
    "        case 2:\n",
    "            x_coord += 1\n",
    "        case 3:\n",
    "            y_coord -= 1\n",
    "    return x_coord, y_coord, direction"
   ]
  },
  {
   "cell_type": "code",
   "execution_count": 13,
   "metadata": {},
   "outputs": [],
   "source": [
    "def convert_array_to_list_v2(items_and_orientation_2d_array, current_x=None, current_y=None, item_att=None, previous_direction=None):\n",
    "    global item_list\n",
    "    if current_x is None or current_y is None:\n",
    "        current_x, current_y = get_starting_position(items_and_orientation_2d_array)\n",
    "        print('starting position', current_x, current_y)\n",
    "        item_list = []\n",
    "    item = items_and_orientation_2d_array[current_x,current_y]\n",
    "    print('item found:', item)\n",
    "    \n",
    "    item_id = item[0:2]\n",
    "    orientation = item[2]\n",
    "        \n",
    "    \n",
    "    # I need to pass the previous item_att to the function, and it will return the new item_att dict.\n",
    "    \n",
    "    if item_att is None:\n",
    "        # create the basic damage\n",
    "        item_att = {\n",
    "            \"coord\": (current_x, current_y),\n",
    "            \"item_id\": item[0:2],\n",
    "            \"orientation\": orientation,\n",
    "            \"flat_data\" : 0,\n",
    "            \"electric_damage\": 0\n",
    "        } # this is the basic structure of storing projectile information in the dictionary\n",
    "    else:\n",
    "       # here I could implement the damage modifying function calling logic.\n",
    "        item_att = {\n",
    "            \"coord\": (current_x, current_y),\n",
    "            \"item_id\": item[0:2],\n",
    "            \"orientation\": orientation,\n",
    "            \"flat_data\" : 0,\n",
    "            \"electric_damage\": 0\n",
    "        } # this is the basic structure of storing projectile information in the dictionary\n",
    "    \n",
    "    if item_id == '64': #infinite loopba kerül valamiért TODO fix. meg lehet csak jó lenne a next_coord functionba tenni\n",
    "        next_x, next_y = find_portal_exit(items_and_orientation_2d_array)\n",
    "        current_direction = turn(turn(int(items_and_orientation_2d_array[next_x,next_y][2]), 'turn_left'), 'turn_left')\n",
    "        print(f'Portal found at {current_x}, {current_y}, orientation: {orientation}. Portal exit at: {next_x},{next_y}. Exit portal direction: {current_direction}')\n",
    "    else:\n",
    "        next_x, next_y, current_direction = next_coordination(current_x, current_y, item, previous_direction)\n",
    "        print('next coordinations are:', next_x, next_y)\n",
    "    \n",
    "    \n",
    "    \n",
    "    if len(item_list)>0: # if the list is not empty then:\n",
    "        if item_list[-1]['orientation'] == orientation: #compare the orientation of the current item with the previous item, they need to be matched. (Rotating is done)\n",
    "            item_list.append(item_att)\n",
    "        elif item_id in ('65','00'):\n",
    "            item_list.append(item_att)\n",
    "        else:\n",
    "            print('Incorrect orientation at:', next_x, next_y, 'item:',item)\n",
    "    elif orientation=='0': # empty list means, it is the first item, that need to face up.\n",
    "        item_list.append(item_att)\n",
    "    else:\n",
    "        print(f'orientation error at: {next_x},{next_y}. Orientation = {orientation}.')\n",
    "\n",
    "    \n",
    "    print(item_list)\n",
    "    if len(item_list) > 50:\n",
    "        print('Infinite loop terminated!')\n",
    "        return item_list\n",
    "    elif item_id == '03':\n",
    "        print('Ejection found at:', next_x, next_y)\n",
    "        return item_list\n",
    "    elif item_id == '01':\n",
    "        print('Path ended in the wall!')\n",
    "    else:\n",
    "        convert_array_to_list_v2(items_and_orientation_2d_array, next_x, next_y, item_att, current_direction)\n",
    "        return item_list"
   ]
  },
  {
   "cell_type": "code",
   "execution_count": 69,
   "metadata": {},
   "outputs": [],
   "source": [
    "# mi lenne ha nem lenne az item_list global, és akkor nem adok vissza item listet, csak ha nem falba végződik?\n",
    "def convert_array_to_list_v2(items_and_orientation_2d_array, current_x=None, current_y=None, item_att=None, previous_direction=None, item_list=None):\n",
    "#     global item_list\n",
    "    if current_x is None or current_y is None:\n",
    "        current_x, current_y = get_starting_position(items_and_orientation_2d_array)\n",
    "        print('starting position', current_x, current_y)\n",
    "        item_list = []\n",
    "    item = items_and_orientation_2d_array[current_x,current_y]\n",
    "    print('item found:', item)\n",
    "    \n",
    "    item_id = item[0:2]\n",
    "    orientation = int(item[2])\n",
    "        \n",
    "    \n",
    "    # I need to pass the previous item_att to the function, and it will return the new item_att dict.\n",
    "    \n",
    "    if item_att is None:\n",
    "        # create the basic damage\n",
    "        item_att = {\n",
    "            \"coord\": (current_x, current_y),\n",
    "            \"item_id\": item[0:2],\n",
    "            \"orientation\": orientation,\n",
    "            \"flat_data\" : 0,\n",
    "            \"electric_damage\": 0\n",
    "        } # this is the basic structure of storing projectile information in the dictionary\n",
    "    else:\n",
    "       # here I could implement the damage modifying function calling logic.\n",
    "        item_att = {\n",
    "            \"coord\": (current_x, current_y),\n",
    "            \"item_id\": item[0:2],\n",
    "            \"orientation\": orientation,\n",
    "            \"flat_data\" : 0,\n",
    "            \"electric_damage\": 0\n",
    "        } # this is the basic structure of storing projectile information in the dictionary\n",
    "    \n",
    "    if item_id == '64':\n",
    "        next_x, next_y = find_portal_exit(items_and_orientation_2d_array)\n",
    "        current_direction = turn(turn(int(items_and_orientation_2d_array[next_x,next_y][2]), 'turn_left'), 'turn_left')\n",
    "        print(f'Portal found at {current_x}, {current_y}, orientation: {orientation}. Portal exit at: {next_x},{next_y}. Exit portal direction: {current_direction}')\n",
    "    else:\n",
    "        next_x, next_y, current_direction = next_coordination(current_x, current_y, item, previous_direction)\n",
    "        print('next coordinations are:', next_x, next_y)\n",
    "    \n",
    "    \n",
    "    \n",
    "    if len(item_list)>0: # if the list is not empty then:\n",
    "#         if item_list[-1]['orientation'] == orientation: #compare the orientation of the current item with the previous item, they need to be matched. (Rotating is done)\n",
    "        if previous_direction == int(orientation): #compare the orientation of the current item with the previous item, they need to be matched. (Rotating is done)\n",
    "            item_list.append(item_att)\n",
    "        elif item_id in ('65','00'):\n",
    "            item_list.append(item_att)\n",
    "        else:\n",
    "            print('Incorrect orientation at:', next_x, next_y, 'item:',item)\n",
    "            print('Orientation:', orientation, 'previous_direction:', previous_direction, 'current_direction:', current_direction)\n",
    "            print(previous_direction == orientation)\n",
    "            print(type(previous_direction))\n",
    "            print(type(orientation))\n",
    "    elif orientation==0: # empty list means, it is the first item, that need to face up.\n",
    "        item_list.append(item_att)\n",
    "    else:\n",
    "        print(f'orientation error at: {current_x},{current_y}. Orientation = {orientation}.')\n",
    "\n",
    "    \n",
    "#     print(item_list)\n",
    "    if len(item_list) > 50:\n",
    "        print('Infinite loop terminated!')\n",
    "#         return item_list\n",
    "    elif item_id == '03':\n",
    "        print('Ejection found at:', current_x, current_y)\n",
    "        print(f'the final item list is: {item_list}')\n",
    "#         return item_list\n",
    "    elif item_id == '01':\n",
    "        print('Path ended in the wall!')\n",
    "    else:\n",
    "        convert_array_to_list_v2(items_and_orientation_2d_array, next_x, next_y, item_att, current_direction, item_list)\n",
    "#         return item_list # ha ezt leveszem, akkor a recursive sorozatban nem adja vissza a listát, csak az ejection előtti folyamatnak\n",
    "    # lehet kellene még egy elif ág a convert_array-nek és az utolsó else ág, mondjuk azt nézi, hogy a lista utolsó eleme ejection-e. ha az, akkor return item_list?\n",
    "    # ez mennyire működne majd a splitterrel vajon. Elsőre egész jónak hangzik.\n",
    "    \n",
    "    if item_list[-1]['item_id']=='03':\n",
    "        print('item list is returned.')\n",
    "        return item_list\n",
    "    else:\n",
    "        print('No item list will be returned by this path.')"
   ]
  },
  {
   "cell_type": "code",
   "execution_count": null,
   "metadata": {},
   "outputs": [],
   "source": [
    "def correct_orientation(previous, current):\n",
    "    "
   ]
  },
  {
   "cell_type": "markdown",
   "metadata": {},
   "source": [
    "A zip funkció jó lehet nekem az item lista darabolására array-be.\n",
    "https://stackoverflow.com/questions/48633549/splitting-a-list-of-strings-with-a-delimiter-and-adding-to-new-lists"
   ]
  },
  {
   "cell_type": "markdown",
   "metadata": {},
   "source": [
    "DEV ZONE"
   ]
  },
  {
   "cell_type": "code",
   "execution_count": 72,
   "metadata": {},
   "outputs": [],
   "source": [
    "build = build7"
   ]
  },
  {
   "cell_type": "code",
   "execution_count": 73,
   "metadata": {
    "scrolled": true
   },
   "outputs": [
    {
     "name": "stdout",
     "output_type": "stream",
     "text": [
      "[['3x3' '3x3' '3x3' '3x3']\n",
      " ['3x3' 'longer_countdown' '3x3' '3x3']\n",
      " ['3x3' 'ejection_up' '3x3' '3x3']\n",
      " ['3x3' '3x3' '3x3' 'blue']]\n",
      "[['05' '05' '05' '05']\n",
      " ['05' '07' '05' '05']\n",
      " ['05' '01' '05' '05']\n",
      " ['05' '05' '05' '06']]\n",
      "[['010' '010' '010' '010' '010' '010' '010' '010' '010' '010' '010' '010' '010' '010']\n",
      " ['010' '143' '000' '000' '000' '000' '283' '343' '253' '263' '363' '000' '040' '010']\n",
      " ['010' '000' '043' '000' '333' '323' '383' '243' '193' '183' '230' '640' '000' '010']\n",
      " ['010' '000' '000' '043' '000' '513' '503' '493' '000' '040' '000' '000' '390' '010']\n",
      " ['010' '000' '352' '000' '043' '000' '000' '633' '040' '000' '000' '110' '210' '010']\n",
      " ['010' '000' '162' '522' '042' '000' '000' '051' '620' '400' '000' '120' '200' '010']\n",
      " ['010' '000' '272' '532' '010' '010' '010' '000' '610' '470' '000' '070' '310' '010']\n",
      " ['010' '000' '372' '542' '010' '010' '010' '000' '600' '420' '000' '100' '130' '010']\n",
      " ['010' '000' '292' '552' '010' '030' '010' '000' '590' '450' '000' '080' '000' '010']\n",
      " ['010' '000' '302' '000' '010' '053' '000' '052' '580' '440' '000' '090' '652' '010']\n",
      " ['010' '000' '000' '042' '000' '561' '571' '000' '041' '000' '000' '150' '010' '010']\n",
      " ['010' '000' '042' '000' '481' '411' '461' '431' '000' '041' '000' '060' '010' '010']\n",
      " ['010' '172' '000' '000' '000' '000' '000' '000' '000' '000' '221' '000' '010' '010']\n",
      " ['010' '010' '010' '010' '010' '010' '010' '010' '010' '010' '010' '020' '010' '010']]\n"
     ]
    }
   ],
   "source": [
    "custom_block_list, custom_block_name_2d_array, custom_block_id_2d_array, items_and_orientation_2d_array = parse_build(build)\n",
    "print(custom_block_name_2d_array)\n",
    "print(custom_block_id_2d_array)\n",
    "print(items_and_orientation_2d_array)"
   ]
  },
  {
   "cell_type": "code",
   "execution_count": 74,
   "metadata": {
    "scrolled": true
   },
   "outputs": [
    {
     "name": "stdout",
     "output_type": "stream",
     "text": [
      "starting position 13 11\n",
      "item found: 020\n",
      "next coordinations are: 12 11\n",
      "item found: 000\n",
      "next coordinations are: 11 11\n",
      "item found: 060\n",
      "next coordinations are: 10 11\n",
      "item found: 150\n",
      "next coordinations are: 9 11\n",
      "item found: 090\n",
      "next coordinations are: 8 11\n",
      "item found: 080\n",
      "next coordinations are: 7 11\n",
      "item found: 100\n",
      "next coordinations are: 6 11\n",
      "item found: 070\n",
      "next coordinations are: 5 11\n",
      "item found: 120\n",
      "next coordinations are: 4 11\n",
      "item found: 110\n",
      "next coordinations are: 3 11\n",
      "item found: 000\n",
      "next coordinations are: 2 11\n",
      "item found: 640\n",
      "Portal found at 2, 11, orientation: 0. Portal exit at: 9,12. Exit portal direction: 0\n",
      "item found: 652\n",
      "next coordinations are: 8 12\n",
      "item found: 000\n",
      "next coordinations are: 7 12\n",
      "item found: 130\n",
      "next coordinations are: 6 12\n",
      "item found: 310\n",
      "next coordinations are: 5 12\n",
      "item found: 200\n",
      "next coordinations are: 4 12\n",
      "item found: 210\n",
      "next coordinations are: 3 12\n",
      "item found: 390\n",
      "next coordinations are: 2 12\n",
      "item found: 000\n",
      "next coordinations are: 1 12\n",
      "item found: 040\n",
      "next coordinations are: 1 11\n",
      "item found: 000\n",
      "next coordinations are: 1 10\n",
      "item found: 363\n",
      "next coordinations are: 1 9\n",
      "item found: 263\n",
      "next coordinations are: 1 8\n",
      "item found: 253\n",
      "next coordinations are: 1 7\n",
      "item found: 343\n",
      "next coordinations are: 1 6\n",
      "item found: 283\n",
      "next coordinations are: 1 5\n",
      "item found: 000\n",
      "next coordinations are: 1 4\n",
      "item found: 000\n",
      "next coordinations are: 1 3\n",
      "item found: 000\n",
      "next coordinations are: 1 2\n",
      "item found: 000\n",
      "next coordinations are: 1 1\n",
      "item found: 143\n",
      "next coordinations are: 1 0\n",
      "item found: 010\n",
      "next coordinations are: 1 -1\n",
      "Incorrect orientation at: 1 -1 item: 010\n",
      "Orientation: 0 previous_direction: 3 current_direction: 3\n",
      "False\n",
      "<class 'int'>\n",
      "<class 'int'>\n",
      "Path ended in the wall!\n",
      "No item list will be returned by this path.\n",
      "No item list will be returned by this path.\n",
      "No item list will be returned by this path.\n",
      "No item list will be returned by this path.\n",
      "No item list will be returned by this path.\n",
      "No item list will be returned by this path.\n",
      "No item list will be returned by this path.\n",
      "No item list will be returned by this path.\n",
      "No item list will be returned by this path.\n",
      "No item list will be returned by this path.\n",
      "No item list will be returned by this path.\n",
      "No item list will be returned by this path.\n",
      "No item list will be returned by this path.\n",
      "No item list will be returned by this path.\n",
      "No item list will be returned by this path.\n",
      "No item list will be returned by this path.\n",
      "No item list will be returned by this path.\n",
      "No item list will be returned by this path.\n",
      "No item list will be returned by this path.\n",
      "No item list will be returned by this path.\n",
      "No item list will be returned by this path.\n",
      "No item list will be returned by this path.\n",
      "No item list will be returned by this path.\n",
      "No item list will be returned by this path.\n",
      "No item list will be returned by this path.\n",
      "No item list will be returned by this path.\n",
      "No item list will be returned by this path.\n",
      "No item list will be returned by this path.\n",
      "No item list will be returned by this path.\n",
      "No item list will be returned by this path.\n",
      "No item list will be returned by this path.\n",
      "No item list will be returned by this path.\n",
      "No item list will be returned by this path.\n"
     ]
    }
   ],
   "source": [
    "item_list = convert_array_to_list_v2(items_and_orientation_2d_array)"
   ]
  },
  {
   "cell_type": "code",
   "execution_count": 54,
   "metadata": {},
   "outputs": [],
   "source": [
    "item_list"
   ]
  },
  {
   "cell_type": "code",
   "execution_count": 45,
   "metadata": {
    "scrolled": false
   },
   "outputs": [
    {
     "data": {
      "text/plain": [
       "[{'coord': (13, 11),\n",
       "  'item_id': '02',\n",
       "  'orientation': '0',\n",
       "  'flat_data': 0,\n",
       "  'electric_damage': 0},\n",
       " {'coord': (12, 11),\n",
       "  'item_id': '00',\n",
       "  'orientation': '0',\n",
       "  'flat_data': 0,\n",
       "  'electric_damage': 0},\n",
       " {'coord': (11, 11),\n",
       "  'item_id': '64',\n",
       "  'orientation': '0',\n",
       "  'flat_data': 0,\n",
       "  'electric_damage': 0},\n",
       " {'coord': (10, 5),\n",
       "  'item_id': '65',\n",
       "  'orientation': '2',\n",
       "  'flat_data': 0,\n",
       "  'electric_damage': 0},\n",
       " {'coord': (9, 5),\n",
       "  'item_id': '00',\n",
       "  'orientation': '0',\n",
       "  'flat_data': 0,\n",
       "  'electric_damage': 0},\n",
       " {'coord': (8, 5),\n",
       "  'item_id': '03',\n",
       "  'orientation': '0',\n",
       "  'flat_data': 0,\n",
       "  'electric_damage': 0}]"
      ]
     },
     "execution_count": 45,
     "metadata": {},
     "output_type": "execute_result"
    }
   ],
   "source": [
    "item_list"
   ]
  },
  {
   "cell_type": "code",
   "execution_count": 74,
   "metadata": {},
   "outputs": [],
   "source": [
    "insert_this = {\n",
    "            \"coord\": (10,11),\n",
    "            \"item_id\": 2,\n",
    "            \"orientation\": 2,\n",
    "            \"flat_data\" : 0,\n",
    "            \"electric_damage\": 0\n",
    "        }\n",
    "insert_this_2 = {\n",
    "            \"coord\": (19,11),\n",
    "            \"item_id\": 3,\n",
    "            \"orientation\": 3,\n",
    "            \"flat_data\" : 3,\n",
    "            \"electric_damage\": 3\n",
    "        }"
   ]
  },
  {
   "cell_type": "code",
   "execution_count": 71,
   "metadata": {},
   "outputs": [],
   "source": [
    "isert_list = []"
   ]
  },
  {
   "cell_type": "code",
   "execution_count": 75,
   "metadata": {},
   "outputs": [],
   "source": [
    "isert_list.append(insert_this_2)"
   ]
  },
  {
   "cell_type": "code",
   "execution_count": 76,
   "metadata": {},
   "outputs": [
    {
     "data": {
      "text/plain": [
       "[{'coord': (10, 11),\n",
       "  'item_id': 2,\n",
       "  'orientation': 2,\n",
       "  'flat_data': 0,\n",
       "  'electric_damage': 0},\n",
       " {'coord': (19, 11),\n",
       "  'item_id': 3,\n",
       "  'orientation': 3,\n",
       "  'flat_data': 3,\n",
       "  'electric_damage': 3}]"
      ]
     },
     "execution_count": 76,
     "metadata": {},
     "output_type": "execute_result"
    }
   ],
   "source": [
    "isert_list"
   ]
  },
  {
   "cell_type": "code",
   "execution_count": 78,
   "metadata": {
    "scrolled": true
   },
   "outputs": [],
   "source": [
    "# listába insertált lista a splitekhez\n",
    "item_list.append(isert_list)"
   ]
  },
  {
   "cell_type": "code",
   "execution_count": 84,
   "metadata": {},
   "outputs": [
    {
     "data": {
      "text/plain": [
       "[{'coord': (10, 11),\n",
       "  'item_id': 2,\n",
       "  'orientation': 2,\n",
       "  'flat_data': 0,\n",
       "  'electric_damage': 0},\n",
       " {'coord': (19, 11),\n",
       "  'item_id': 3,\n",
       "  'orientation': 3,\n",
       "  'flat_data': 3,\n",
       "  'electric_damage': 3}]"
      ]
     },
     "execution_count": 84,
     "metadata": {},
     "output_type": "execute_result"
    }
   ],
   "source": [
    "item_list[6]"
   ]
  },
  {
   "cell_type": "code",
   "execution_count": 54,
   "metadata": {},
   "outputs": [
    {
     "data": {
      "text/plain": [
       "array([['010', '010', '010', '010', '010', '010', '010', '010', '010', '010', '010', '010', '010', '010'],\n",
       "       ['010', '000', '000', '000', '000', '000', '000', '000', '000', '000', '000', '000', '010', '010'],\n",
       "       ['010', '000', '000', '000', '000', '000', '000', '000', '000', '000', '000', '000', '010', '010'],\n",
       "       ['010', '000', '000', '000', '000', '000', '000', '000', '000', '000', '000', '000', '010', '010'],\n",
       "       ['010', '000', '000', '000', '000', '000', '000', '000', '000', '000', '000', '000', '010', '010'],\n",
       "       ['010', '000', '000', '000', '000', '000', '000', '000', '000', '000', '000', '000', '010', '010'],\n",
       "       ['010', '000', '000', '000', '010', '010', '010', '000', '000', '000', '000', '000', '010', '010'],\n",
       "       ['010', '000', '000', '000', '010', '010', '010', '000', '000', '000', '000', '000', '010', '010'],\n",
       "       ['010', '000', '000', '000', '010', '030', '010', '000', '000', '000', '000', '000', '010', '010'],\n",
       "       ['010', '000', '000', '000', '010', '000', '000', '000', '000', '000', '000', '000', '010', '010'],\n",
       "       ['010', '000', '000', '000', '000', '652', '000', '000', '000', '000', '000', '000', '010', '010'],\n",
       "       ['010', '000', '000', '000', '000', '000', '000', '000', '000', '000', '000', '640', '010', '010'],\n",
       "       ['010', '000', '000', '000', '000', '000', '000', '000', '000', '000', '000', '000', '010', '010'],\n",
       "       ['010', '010', '010', '010', '010', '010', '010', '010', '010', '010', '010', '020', '010', '010']], dtype='<U3')"
      ]
     },
     "execution_count": 54,
     "metadata": {},
     "output_type": "execute_result"
    }
   ],
   "source": [
    "items_and_orientation_2d_array"
   ]
  },
  {
   "cell_type": "code",
   "execution_count": 42,
   "metadata": {},
   "outputs": [],
   "source": [
    "def next_coordination(x_coord, y_coord, item_with_orientation, previous_direction=None):\n",
    "    print('inputs are:', x_coord, y_coord, item_with_orientation, previous_direction)\n",
    "    item = str(item_with_orientation)[0:2]\n",
    "    orientation = int(item_with_orientation[2])\n",
    "    match item:\n",
    "        case '04':\n",
    "            direction = turn(orientation,'turn_left')\n",
    "        case '05':\n",
    "            direction = turn(orientation,'turn_right')\n",
    "        case '00':\n",
    "            direction = previous_direction\n",
    "        case '02':\n",
    "            direction = 0\n",
    "        case other:\n",
    "            direction = previous_direction\n",
    "    match int(direction):\n",
    "        case 0:\n",
    "            x_coord -= 1\n",
    "            print('reduce x')\n",
    "        case 1:\n",
    "            y_coord += 1\n",
    "            print('increase y')\n",
    "        case 2:\n",
    "            x_coord += 1\n",
    "            print('increase y')\n",
    "        case 3:\n",
    "            y_coord -= 1\n",
    "    return x_coord, y_coord, direction"
   ]
  },
  {
   "cell_type": "code",
   "execution_count": 43,
   "metadata": {},
   "outputs": [
    {
     "name": "stdout",
     "output_type": "stream",
     "text": [
      "inputs are: 10 5 652 2\n",
      "keep going at: 2\n",
      "<class 'int'>\n",
      "increase y\n",
      "return these: 11 5 2\n"
     ]
    },
    {
     "data": {
      "text/plain": [
       "(11, 5, 2)"
      ]
     },
     "execution_count": 43,
     "metadata": {},
     "output_type": "execute_result"
    }
   ],
   "source": [
    "next_coordination(10, 5, '652', 2)"
   ]
  },
  {
   "cell_type": "code",
   "execution_count": null,
   "metadata": {},
   "outputs": [],
   "source": []
  },
  {
   "cell_type": "code",
   "execution_count": null,
   "metadata": {},
   "outputs": [],
   "source": [
    "# item_list = convert_array_to_list_v1(items_and_orientation_2d_array)"
   ]
  },
  {
   "cell_type": "code",
   "execution_count": null,
   "metadata": {},
   "outputs": [],
   "source": [
    "{\n",
    "\n",
    "}"
   ]
  },
  {
   "cell_type": "code",
   "execution_count": null,
   "metadata": {},
   "outputs": [],
   "source": []
  },
  {
   "cell_type": "code",
   "execution_count": null,
   "metadata": {},
   "outputs": [],
   "source": []
  },
  {
   "cell_type": "code",
   "execution_count": null,
   "metadata": {},
   "outputs": [],
   "source": [
    "# így lehet áthívni egy funciont, text alapján\n",
    "func = getattr(items, 'x2')\n",
    "func()"
   ]
  },
  {
   "cell_type": "code",
   "execution_count": 62,
   "metadata": {},
   "outputs": [
    {
     "data": {
      "text/plain": [
       "[{'coord': (13, 11),\n",
       "  'item_id': '02',\n",
       "  'orientation': '0',\n",
       "  'flat_data': 0,\n",
       "  'electric_damage': 0},\n",
       " {'coord': (12, 11),\n",
       "  'item_id': '06',\n",
       "  'orientation': '0',\n",
       "  'flat_data': 0,\n",
       "  'electric_damage': 0},\n",
       " {'coord': (11, 11),\n",
       "  'item_id': '20',\n",
       "  'orientation': '0',\n",
       "  'flat_data': 0,\n",
       "  'electric_damage': 0},\n",
       " {'coord': (10, 11),\n",
       "  'item_id': '00',\n",
       "  'orientation': '0',\n",
       "  'flat_data': 0,\n",
       "  'electric_damage': 0},\n",
       " {'coord': (9, 11),\n",
       "  'item_id': '04',\n",
       "  'orientation': '0',\n",
       "  'flat_data': 0,\n",
       "  'electric_damage': 0},\n",
       " {'coord': (9, 10),\n",
       "  'item_id': '00',\n",
       "  'orientation': '0',\n",
       "  'flat_data': 0,\n",
       "  'electric_damage': 0},\n",
       " {'coord': (8, 10),\n",
       "  'item_id': '00',\n",
       "  'orientation': '0',\n",
       "  'flat_data': 0,\n",
       "  'electric_damage': 0},\n",
       " {'coord': (7, 10),\n",
       "  'item_id': '00',\n",
       "  'orientation': '0',\n",
       "  'flat_data': 0,\n",
       "  'electric_damage': 0},\n",
       " {'coord': (6, 10),\n",
       "  'item_id': '00',\n",
       "  'orientation': '0',\n",
       "  'flat_data': 0,\n",
       "  'electric_damage': 0},\n",
       " {'coord': (5, 10),\n",
       "  'item_id': '00',\n",
       "  'orientation': '0',\n",
       "  'flat_data': 0,\n",
       "  'electric_damage': 0},\n",
       " {'coord': (4, 10),\n",
       "  'item_id': '00',\n",
       "  'orientation': '0',\n",
       "  'flat_data': 0,\n",
       "  'electric_damage': 0},\n",
       " {'coord': (3, 10),\n",
       "  'item_id': '00',\n",
       "  'orientation': '0',\n",
       "  'flat_data': 0,\n",
       "  'electric_damage': 0},\n",
       " {'coord': (2, 10),\n",
       "  'item_id': '00',\n",
       "  'orientation': '0',\n",
       "  'flat_data': 0,\n",
       "  'electric_damage': 0},\n",
       " {'coord': (1, 10),\n",
       "  'item_id': '00',\n",
       "  'orientation': '0',\n",
       "  'flat_data': 0,\n",
       "  'electric_damage': 0},\n",
       " {'coord': (0, 10),\n",
       "  'item_id': '01',\n",
       "  'orientation': '0',\n",
       "  'flat_data': 0,\n",
       "  'electric_damage': 0},\n",
       " {'coord': (-1, 10),\n",
       "  'item_id': '01',\n",
       "  'orientation': '0',\n",
       "  'flat_data': 0,\n",
       "  'electric_damage': 0},\n",
       " {'coord': (-2, 10),\n",
       "  'item_id': '00',\n",
       "  'orientation': '0',\n",
       "  'flat_data': 0,\n",
       "  'electric_damage': 0},\n",
       " {'coord': (-3, 10),\n",
       "  'item_id': '00',\n",
       "  'orientation': '0',\n",
       "  'flat_data': 0,\n",
       "  'electric_damage': 0},\n",
       " {'coord': (-4, 10),\n",
       "  'item_id': '00',\n",
       "  'orientation': '0',\n",
       "  'flat_data': 0,\n",
       "  'electric_damage': 0},\n",
       " {'coord': (-5, 10),\n",
       "  'item_id': '00',\n",
       "  'orientation': '0',\n",
       "  'flat_data': 0,\n",
       "  'electric_damage': 0},\n",
       " {'coord': (-6, 10),\n",
       "  'item_id': '00',\n",
       "  'orientation': '0',\n",
       "  'flat_data': 0,\n",
       "  'electric_damage': 0},\n",
       " {'coord': (-7, 10),\n",
       "  'item_id': '00',\n",
       "  'orientation': '0',\n",
       "  'flat_data': 0,\n",
       "  'electric_damage': 0},\n",
       " {'coord': (-8, 10),\n",
       "  'item_id': '00',\n",
       "  'orientation': '0',\n",
       "  'flat_data': 0,\n",
       "  'electric_damage': 0},\n",
       " {'coord': (-9, 10),\n",
       "  'item_id': '00',\n",
       "  'orientation': '0',\n",
       "  'flat_data': 0,\n",
       "  'electric_damage': 0},\n",
       " {'coord': (-10, 10),\n",
       "  'item_id': '00',\n",
       "  'orientation': '0',\n",
       "  'flat_data': 0,\n",
       "  'electric_damage': 0},\n",
       " {'coord': (-11, 10),\n",
       "  'item_id': '00',\n",
       "  'orientation': '0',\n",
       "  'flat_data': 0,\n",
       "  'electric_damage': 0},\n",
       " {'coord': (-12, 10),\n",
       "  'item_id': '00',\n",
       "  'orientation': '0',\n",
       "  'flat_data': 0,\n",
       "  'electric_damage': 0},\n",
       " {'coord': (-13, 10),\n",
       "  'item_id': '00',\n",
       "  'orientation': '0',\n",
       "  'flat_data': 0,\n",
       "  'electric_damage': 0},\n",
       " {'coord': (-14, 10),\n",
       "  'item_id': '01',\n",
       "  'orientation': '0',\n",
       "  'flat_data': 0,\n",
       "  'electric_damage': 0}]"
      ]
     },
     "execution_count": 62,
     "metadata": {},
     "output_type": "execute_result"
    }
   ],
   "source": [
    "item_list"
   ]
  },
  {
   "cell_type": "code",
   "execution_count": 13,
   "metadata": {},
   "outputs": [],
   "source": [
    "test_item = 'x2'"
   ]
  },
  {
   "cell_type": "code",
   "execution_count": 33,
   "metadata": {
    "scrolled": true
   },
   "outputs": [
    {
     "name": "stdout",
     "output_type": "stream",
     "text": [
      "test\n"
     ]
    }
   ],
   "source": [
    "globals()['x2']()"
   ]
  },
  {
   "cell_type": "code",
   "execution_count": 34,
   "metadata": {},
   "outputs": [],
   "source": []
  },
  {
   "cell_type": "code",
   "execution_count": 35,
   "metadata": {},
   "outputs": [],
   "source": []
  },
  {
   "cell_type": "code",
   "execution_count": 37,
   "metadata": {},
   "outputs": [
    {
     "name": "stdout",
     "output_type": "stream",
     "text": [
      "test from import\n"
     ]
    }
   ],
   "source": []
  },
  {
   "cell_type": "code",
   "execution_count": 18,
   "metadata": {
    "scrolled": true
   },
   "outputs": [
    {
     "ename": "KeyError",
     "evalue": "'x2'",
     "output_type": "error",
     "traceback": [
      "\u001b[1;31m---------------------------------------------------------------------------\u001b[0m",
      "\u001b[1;31mKeyError\u001b[0m                                  Traceback (most recent call last)",
      "Cell \u001b[1;32mIn[18], line 1\u001b[0m\n\u001b[1;32m----> 1\u001b[0m func \u001b[38;5;241m=\u001b[39m \u001b[38;5;28;43mglobals\u001b[39;49m\u001b[43m(\u001b[49m\u001b[43m)\u001b[49m\u001b[43m[\u001b[49m\u001b[38;5;124;43m'\u001b[39;49m\u001b[38;5;124;43mx2\u001b[39;49m\u001b[38;5;124;43m'\u001b[39;49m\u001b[43m]\u001b[49m\n",
      "\u001b[1;31mKeyError\u001b[0m: 'x2'"
     ]
    }
   ],
   "source": [
    "func = globals()['x2']"
   ]
  },
  {
   "cell_type": "code",
   "execution_count": 30,
   "metadata": {},
   "outputs": [],
   "source": [
    "def x2():\n",
    "    print('test')"
   ]
  },
  {
   "cell_type": "code",
   "execution_count": 21,
   "metadata": {},
   "outputs": [
    {
     "data": {
      "text/plain": [
       "{'coord': (12, 11),\n",
       " 'item_id': '48',\n",
       " 'orientation': '0',\n",
       " 'flat_data': 5,\n",
       " 'electric_damage': 0}"
      ]
     },
     "execution_count": 21,
     "metadata": {},
     "output_type": "execute_result"
    }
   ],
   "source": [
    "item_list[1]"
   ]
  },
  {
   "cell_type": "code",
   "execution_count": 8,
   "metadata": {},
   "outputs": [],
   "source": [
    "def convert_array_to_list_v1(items_and_orientation_2d_array, next_x=None, next_y=None):\n",
    "    global item_list\n",
    "    if next_x is None or next_y is None:\n",
    "        next_x, next_y = get_starting_position(items_and_orientation_2d_array)\n",
    "        print('starting position', next_x, next_y)\n",
    "        item_list = []\n",
    "    item = items_and_orientation_2d_array[next_x,next_y]\n",
    "    print('item found:', item)\n",
    "    next_x, next_y = next_coordination(next_x, next_y, item)\n",
    "    print('next coordinations are:', next_x, next_y)\n",
    "    item_list.append(item)\n",
    "    print(item_list)\n",
    "    if len(item_list) > 300:\n",
    "        print('Infinite loop terminated!')\n",
    "        return item_list\n",
    "    elif item != '03':\n",
    "        convert_array_to_list(items_and_orientation_2d_array, next_x, next_y)\n",
    "        return item_list\n",
    "    else:\n",
    "        print('Ejection found at:', next_x, next_y)\n",
    "        return item_list    "
   ]
  },
  {
   "cell_type": "code",
   "execution_count": null,
   "metadata": {},
   "outputs": [],
   "source": [
    "    if len(item_list)>0:\n",
    "        if item_list[-1]['orientation'] == item_att['orientation']:\n",
    "            item_list.append(item_att)\n",
    "        else:\n",
    "            print('Incorrect orientation at:', next_x, next_y, 'item:',item)\n",
    "    else:\n",
    "        item_list.append(item_att)"
   ]
  },
  {
   "cell_type": "code",
   "execution_count": 55,
   "metadata": {},
   "outputs": [
    {
     "data": {
      "text/plain": [
       "{'coord': (9, 6),\n",
       " 'item_id': '05',\n",
       " 'orientation': '2',\n",
       " 'flat_data': 5,\n",
       " 'electric_damage': 0}"
      ]
     },
     "execution_count": 55,
     "metadata": {},
     "output_type": "execute_result"
    }
   ],
   "source": [
    "item_list[-1]"
   ]
  },
  {
   "cell_type": "code",
   "execution_count": 56,
   "metadata": {},
   "outputs": [
    {
     "data": {
      "text/plain": [
       "'2'"
      ]
     },
     "execution_count": 56,
     "metadata": {},
     "output_type": "execute_result"
    }
   ],
   "source": [
    "item_list[-1]['orientation']"
   ]
  },
  {
   "cell_type": "code",
   "execution_count": 40,
   "metadata": {},
   "outputs": [
    {
     "data": {
      "text/plain": [
       "<filter at 0x1ae17fa1d50>"
      ]
     },
     "execution_count": 40,
     "metadata": {},
     "output_type": "execute_result"
    }
   ],
   "source": [
    "filter('coord' == (10, 11), item_list)"
   ]
  },
  {
   "cell_type": "code",
   "execution_count": 49,
   "metadata": {},
   "outputs": [
    {
     "name": "stdout",
     "output_type": "stream",
     "text": [
      "Found item with coord (10, 11): {'coord': (10, 11), 'item_id': '47', 'orientation': '0', 'flat_data': 5, 'electric_damage': 0}\n"
     ]
    }
   ],
   "source": [
    "for item in item_list:\n",
    "    if item[\"coord\"] == (10, 11):\n",
    "        print(\"Found item with coord (10, 11):\", item)\n",
    "        break\n",
    "else:\n",
    "    print(\"No item with coord (1, 1) found\")"
   ]
  },
  {
   "cell_type": "code",
   "execution_count": 494,
   "metadata": {},
   "outputs": [],
   "source": [
    "item_list = []"
   ]
  },
  {
   "cell_type": "code",
   "execution_count": 495,
   "metadata": {
    "scrolled": true
   },
   "outputs": [
    {
     "data": {
      "text/plain": [
       "0"
      ]
     },
     "execution_count": 495,
     "metadata": {},
     "output_type": "execute_result"
    }
   ],
   "source": [
    "len(item_list)"
   ]
  },
  {
   "cell_type": "code",
   "execution_count": 492,
   "metadata": {},
   "outputs": [
    {
     "name": "stdout",
     "output_type": "stream",
     "text": [
      "1\n"
     ]
    }
   ],
   "source": [
    "if item_list:\n",
    "    print('1')\n",
    "else:\n",
    "    print('2')"
   ]
  },
  {
   "cell_type": "code",
   "execution_count": 478,
   "metadata": {},
   "outputs": [],
   "source": [
    "item = '011'"
   ]
  },
  {
   "cell_type": "code",
   "execution_count": 491,
   "metadata": {},
   "outputs": [],
   "source": [
    "item_list.append('022')"
   ]
  },
  {
   "cell_type": "code",
   "execution_count": 480,
   "metadata": {},
   "outputs": [
    {
     "data": {
      "text/plain": [
       "False"
      ]
     },
     "execution_count": 480,
     "metadata": {},
     "output_type": "execute_result"
    }
   ],
   "source": [
    "item_list[-1][2] == item[2]"
   ]
  },
  {
   "cell_type": "code",
   "execution_count": 473,
   "metadata": {},
   "outputs": [
    {
     "data": {
      "text/plain": [
       "'2'"
      ]
     },
     "execution_count": 473,
     "metadata": {},
     "output_type": "execute_result"
    }
   ],
   "source": [
    "item_list[-1][2]"
   ]
  },
  {
   "cell_type": "code",
   "execution_count": 453,
   "metadata": {},
   "outputs": [
    {
     "data": {
      "text/plain": [
       "124"
      ]
     },
     "execution_count": 453,
     "metadata": {},
     "output_type": "execute_result"
    }
   ],
   "source": [
    "len(item_list)"
   ]
  },
  {
   "cell_type": "code",
   "execution_count": 454,
   "metadata": {},
   "outputs": [
    {
     "name": "stdout",
     "output_type": "stream",
     "text": [
      "['020', '480', '470', '510', '160', '160', '160', '160', '620', '440', '240', '620', '040', '153', '243', '243', '243', '213', '363', '413', '243', '243', '043', '242', '242', '242', '242', '242', '572', '572', '572', '572', '562', '042', '561', '561', '571', '571', '561', '561', '561', '561', '041', '560', '560', '560', '560', '560', '560', '560', '560', '560', '040', '563', '563', '563', '563', '563', '563', '563', '043', '562', '562', '562', '562', '562', '562', '562', '562', '042', '561', '561', '551', '551', '551', '551', '041', '550', '550', '550', '550', '550', '550', '550', '040', '553', '553', '553', '553', '553', '043', '552', '552', '552', '552', '552', '552', '042', '551', '551', '551', '551', '041', '550', '550', '550', '550', '550', '040', '553', '553', '543', '043', '042', '541', '451', '051', '162', '162', '362', '052', '433', '053', '030']\n"
     ]
    }
   ],
   "source": [
    "print(item_list)"
   ]
  },
  {
   "cell_type": "code",
   "execution_count": 429,
   "metadata": {
    "scrolled": true
   },
   "outputs": [
    {
     "data": {
      "text/plain": [
       "False"
      ]
     },
     "execution_count": 429,
     "metadata": {},
     "output_type": "execute_result"
    }
   ],
   "source": [
    "100 == 102 | 100 == 101 "
   ]
  },
  {
   "cell_type": "code",
   "execution_count": null,
   "metadata": {},
   "outputs": [],
   "source": [
    "def add_item(coordination, array):\n",
    "    "
   ]
  },
  {
   "cell_type": "code",
   "execution_count": 446,
   "metadata": {},
   "outputs": [
    {
     "data": {
      "text/plain": [
       "array([['010', '010', '010', '010', '010', '010', '010', '010', '010', '010', '010', '010', '010', '010'],\n",
       "       ['010', '043', '243', '243', '413', '363', '213', '243', '243', '243', '153', '040', '010', '010'],\n",
       "       ['010', '242', '043', '563', '563', '563', '563', '563', '563', '563', '040', '620', '010', '010'],\n",
       "       ['010', '242', '562', '043', '553', '553', '553', '553', '553', '040', '560', '240', '010', '010'],\n",
       "       ['010', '242', '562', '552', '043', '543', '553', '553', '040', '550', '560', '440', '010', '010'],\n",
       "       ['010', '242', '562', '552', '042', '541', '451', '051', '550', '550', '560', '620', '010', '010'],\n",
       "       ['010', '242', '562', '552', '010', '010', '010', '162', '550', '550', '560', '160', '010', '010'],\n",
       "       ['010', '572', '562', '552', '010', '010', '010', '162', '550', '550', '560', '160', '010', '010'],\n",
       "       ['010', '572', '562', '552', '010', '030', '010', '362', '550', '550', '560', '160', '010', '010'],\n",
       "       ['010', '572', '562', '552', '010', '053', '433', '052', '550', '550', '560', '160', '010', '010'],\n",
       "       ['010', '572', '562', '042', '551', '551', '551', '551', '041', '550', '560', '510', '010', '010'],\n",
       "       ['010', '562', '042', '561', '561', '551', '551', '551', '551', '041', '560', '470', '010', '010'],\n",
       "       ['010', '042', '561', '561', '571', '571', '561', '561', '561', '561', '041', '480', '010', '010'],\n",
       "       ['010', '010', '010', '010', '010', '010', '010', '010', '010', '010', '010', '020', '010', '010']], dtype='<U3')"
      ]
     },
     "execution_count": 446,
     "metadata": {},
     "output_type": "execute_result"
    }
   ],
   "source": [
    "items_and_orientation_2d_array"
   ]
  },
  {
   "cell_type": "code",
   "execution_count": null,
   "metadata": {},
   "outputs": [],
   "source": []
  },
  {
   "cell_type": "code",
   "execution_count": 19,
   "metadata": {},
   "outputs": [],
   "source": [
    "starting_position = get_starting_position(items_and_orientation_2d_array)"
   ]
  },
  {
   "cell_type": "code",
   "execution_count": 20,
   "metadata": {},
   "outputs": [
    {
     "data": {
      "text/plain": [
       "(13, 11)"
      ]
     },
     "execution_count": 20,
     "metadata": {},
     "output_type": "execute_result"
    }
   ],
   "source": [
    "starting_position"
   ]
  },
  {
   "cell_type": "code",
   "execution_count": 21,
   "metadata": {},
   "outputs": [],
   "source": [
    "current_x = starting_position[0]\n",
    "current_y = starting_position[1]"
   ]
  },
  {
   "cell_type": "code",
   "execution_count": 114,
   "metadata": {},
   "outputs": [
    {
     "data": {
      "text/plain": [
       "'0'"
      ]
     },
     "execution_count": 114,
     "metadata": {},
     "output_type": "execute_result"
    }
   ],
   "source": [
    "items_and_orientation_2d_array[current_x,current_y][2]"
   ]
  },
  {
   "cell_type": "code",
   "execution_count": 79,
   "metadata": {
    "scrolled": true
   },
   "outputs": [
    {
     "name": "stdout",
     "output_type": "stream",
     "text": [
      "12 11\n",
      "020\n"
     ]
    }
   ],
   "source": [
    "next_x, next_y = next_coordination(current_x, current_y, items_and_orientation_2d_array[current_x,current_y])\n",
    "print(next_x, next_y)\n",
    "print(items_and_orientation_2d_array[current_x,current_y])"
   ]
  },
  {
   "cell_type": "code",
   "execution_count": 365,
   "metadata": {},
   "outputs": [
    {
     "name": "stdout",
     "output_type": "stream",
     "text": [
      "6 5\n",
      "010\n"
     ]
    }
   ],
   "source": [
    "next_x, next_y = next_coordination(next_x, next_y, items_and_orientation_2d_array[next_x,next_y])\n",
    "print(next_x, next_y)\n",
    "print(items_and_orientation_2d_array[next_x,next_y])"
   ]
  },
  {
   "cell_type": "code",
   "execution_count": 65,
   "metadata": {},
   "outputs": [
    {
     "ename": "TypeError",
     "evalue": "unsupported operand type(s) for -=: 'str' and 'int'",
     "output_type": "error",
     "traceback": [
      "\u001b[1;31m---------------------------------------------------------------------------\u001b[0m",
      "\u001b[1;31mTypeError\u001b[0m                                 Traceback (most recent call last)",
      "Cell \u001b[1;32mIn[65], line 1\u001b[0m\n\u001b[1;32m----> 1\u001b[0m \u001b[43mturn\u001b[49m\u001b[43m(\u001b[49m\u001b[38;5;124;43m'\u001b[39;49m\u001b[38;5;124;43m0\u001b[39;49m\u001b[38;5;124;43m'\u001b[39;49m\u001b[43m,\u001b[49m\u001b[43m \u001b[49m\u001b[38;5;124;43m'\u001b[39;49m\u001b[38;5;124;43mturn_left\u001b[39;49m\u001b[38;5;124;43m'\u001b[39;49m\u001b[43m)\u001b[49m\n",
      "Cell \u001b[1;32mIn[63], line 6\u001b[0m, in \u001b[0;36mturn\u001b[1;34m(id, turn)\u001b[0m\n\u001b[0;32m      4\u001b[0m \u001b[38;5;28;01mmatch\u001b[39;00m turn:\n\u001b[0;32m      5\u001b[0m     \u001b[38;5;28;01mcase\u001b[39;00m \u001b[38;5;124m'\u001b[39m\u001b[38;5;124mturn_left\u001b[39m\u001b[38;5;124m'\u001b[39m:\n\u001b[1;32m----> 6\u001b[0m         \u001b[38;5;28;43mid\u001b[39;49m\u001b[43m \u001b[49m\u001b[38;5;241;43m-\u001b[39;49m\u001b[38;5;241;43m=\u001b[39;49m\u001b[43m \u001b[49m\u001b[38;5;241;43m1\u001b[39;49m\n\u001b[0;32m      7\u001b[0m         \u001b[38;5;28;01mif\u001b[39;00m \u001b[38;5;28mid\u001b[39m \u001b[38;5;241m<\u001b[39m \u001b[38;5;241m0\u001b[39m:\n\u001b[0;32m      8\u001b[0m             \u001b[38;5;28mid\u001b[39m \u001b[38;5;241m=\u001b[39m \u001b[38;5;241m3\u001b[39m\n",
      "\u001b[1;31mTypeError\u001b[0m: unsupported operand type(s) for -=: 'str' and 'int'"
     ]
    }
   ],
   "source": [
    "turn('0', 'turn_left')"
   ]
  },
  {
   "cell_type": "code",
   "execution_count": 75,
   "metadata": {},
   "outputs": [
    {
     "ename": "AttributeError",
     "evalue": "'numpy.ndarray' object has no attribute 'index'",
     "output_type": "error",
     "traceback": [
      "\u001b[1;31m---------------------------------------------------------------------------\u001b[0m",
      "\u001b[1;31mAttributeError\u001b[0m                            Traceback (most recent call last)",
      "Cell \u001b[1;32mIn[75], line 1\u001b[0m\n\u001b[1;32m----> 1\u001b[0m \u001b[43mitems_and_orientation_2d_array\u001b[49m\u001b[38;5;241;43m.\u001b[39;49m\u001b[43mindex\u001b[49m(\u001b[38;5;124m'\u001b[39m\u001b[38;5;124m652\u001b[39m\u001b[38;5;124m'\u001b[39m)\n",
      "\u001b[1;31mAttributeError\u001b[0m: 'numpy.ndarray' object has no attribute 'index'"
     ]
    }
   ],
   "source": [
    "items_and_orientation_2d_array.index('652')"
   ]
  },
  {
   "cell_type": "code",
   "execution_count": 78,
   "metadata": {},
   "outputs": [
    {
     "data": {
      "text/plain": [
       "(array([10], dtype=int64), array([5], dtype=int64))"
      ]
     },
     "execution_count": 78,
     "metadata": {},
     "output_type": "execute_result"
    }
   ],
   "source": [
    "np.where((items_and_orientation_2d_array >= '650') & (items_and_orientation_2d_array <= '653'))"
   ]
  },
  {
   "cell_type": "code",
   "execution_count": null,
   "metadata": {},
   "outputs": [],
   "source": [
    " np.where(df['TYPE'].str.contains('I5')"
   ]
  },
  {
   "cell_type": "code",
   "execution_count": 60,
   "metadata": {},
   "outputs": [
    {
     "data": {
      "text/plain": [
       "array([[False, False, False, False, False, False, False, False, False, False, False, False, False, False],\n",
       "       [False, False, False, False, False, False, False, False, False, False, False, False, False, False],\n",
       "       [False, False, False, False, False, False, False, False, False, False, False, False, False, False],\n",
       "       [False, False, False, False, False, False, False, False, False, False, False, False, False, False],\n",
       "       [False, False, False, False, False, False, False, False, False, False, False, False, False, False],\n",
       "       [False, False, False, False, False, False, False, False, False, False, False, False, False, False],\n",
       "       [False, False, False, False, False, False, False, False, False, False, False, False, False, False],\n",
       "       [False, False, False, False, False, False, False, False, False, False, False, False, False, False],\n",
       "       [False, False, False, False, False, False, False, False, False, False, False, False, False, False],\n",
       "       [False, False, False, False, False, False, False, False, False, False, False, False, False, False],\n",
       "       [False, False, False, False, False, False, False, False, False, False, False, False, False, False],\n",
       "       [False, False, False, False, False, False, False, False, False, False, False, False, False, False],\n",
       "       [False, False, False, False, False, False, False, False, False, False, False, False, False, False],\n",
       "       [False, False, False, False, False, False, False, False, False, False, False, False, False, False]])"
      ]
     },
     "execution_count": 60,
     "metadata": {},
     "output_type": "execute_result"
    }
   ],
   "source": [
    "np.isin(items_and_orientation_2d_array,'65')"
   ]
  },
  {
   "cell_type": "code",
   "execution_count": null,
   "metadata": {},
   "outputs": [],
   "source": [
    "re.findall('..?',custom_blocks)"
   ]
  },
  {
   "cell_type": "code",
   "execution_count": 66,
   "metadata": {},
   "outputs": [
    {
     "data": {
      "text/plain": [
       "['010']"
      ]
     },
     "execution_count": 66,
     "metadata": {},
     "output_type": "execute_result"
    }
   ],
   "source": [
    "re.findall('...?',items_and_orientation_2d_array[0][0])"
   ]
  },
  {
   "cell_type": "code",
   "execution_count": 67,
   "metadata": {},
   "outputs": [
    {
     "ename": "TypeError",
     "evalue": "cannot use a string pattern on a bytes-like object",
     "output_type": "error",
     "traceback": [
      "\u001b[1;31m---------------------------------------------------------------------------\u001b[0m",
      "\u001b[1;31mTypeError\u001b[0m                                 Traceback (most recent call last)",
      "Cell \u001b[1;32mIn[67], line 1\u001b[0m\n\u001b[1;32m----> 1\u001b[0m \u001b[43mre\u001b[49m\u001b[38;5;241;43m.\u001b[39;49m\u001b[43mfullmatch\u001b[49m\u001b[43m(\u001b[49m\u001b[38;5;124;43m'\u001b[39;49m\u001b[38;5;124;43m65.\u001b[39;49m\u001b[38;5;124;43m'\u001b[39;49m\u001b[43m,\u001b[49m\u001b[43mitems_and_orientation_2d_array\u001b[49m\u001b[43m)\u001b[49m\n",
      "File \u001b[1;32m~\\AppData\\Local\\Programs\\Python\\Python311\\Lib\\re\\__init__.py:171\u001b[0m, in \u001b[0;36mfullmatch\u001b[1;34m(pattern, string, flags)\u001b[0m\n\u001b[0;32m    168\u001b[0m \u001b[38;5;28;01mdef\u001b[39;00m \u001b[38;5;21mfullmatch\u001b[39m(pattern, string, flags\u001b[38;5;241m=\u001b[39m\u001b[38;5;241m0\u001b[39m):\n\u001b[0;32m    169\u001b[0m \u001b[38;5;250m    \u001b[39m\u001b[38;5;124;03m\"\"\"Try to apply the pattern to all of the string, returning\u001b[39;00m\n\u001b[0;32m    170\u001b[0m \u001b[38;5;124;03m    a Match object, or None if no match was found.\"\"\"\u001b[39;00m\n\u001b[1;32m--> 171\u001b[0m     \u001b[38;5;28;01mreturn\u001b[39;00m \u001b[43m_compile\u001b[49m\u001b[43m(\u001b[49m\u001b[43mpattern\u001b[49m\u001b[43m,\u001b[49m\u001b[43m \u001b[49m\u001b[43mflags\u001b[49m\u001b[43m)\u001b[49m\u001b[38;5;241;43m.\u001b[39;49m\u001b[43mfullmatch\u001b[49m\u001b[43m(\u001b[49m\u001b[43mstring\u001b[49m\u001b[43m)\u001b[49m\n",
      "\u001b[1;31mTypeError\u001b[0m: cannot use a string pattern on a bytes-like object"
     ]
    }
   ],
   "source": [
    "re.fullmatch('65.',items_and_orientation_2d_array)"
   ]
  },
  {
   "cell_type": "code",
   "execution_count": 63,
   "metadata": {},
   "outputs": [
    {
     "data": {
      "text/plain": [
       "array([['010', '010', '010', '010', '010', '010', '010', '010', '010', '010', '010', '010', '010', '010'],\n",
       "       ['010', '000', '000', '000', '000', '000', '000', '000', '000', '000', '000', '000', '010', '010'],\n",
       "       ['010', '000', '000', '000', '000', '000', '000', '000', '000', '000', '000', '000', '010', '010'],\n",
       "       ['010', '000', '000', '000', '000', '000', '000', '000', '000', '000', '000', '000', '010', '010'],\n",
       "       ['010', '000', '000', '000', '000', '000', '000', '000', '000', '000', '000', '000', '010', '010'],\n",
       "       ['010', '000', '000', '000', '000', '000', '000', '000', '000', '000', '000', '000', '010', '010'],\n",
       "       ['010', '000', '000', '000', '010', '010', '010', '000', '000', '000', '000', '000', '010', '010'],\n",
       "       ['010', '000', '000', '000', '010', '010', '010', '000', '000', '000', '000', '000', '010', '010'],\n",
       "       ['010', '000', '000', '000', '010', '030', '010', '000', '000', '000', '000', '000', '010', '010'],\n",
       "       ['010', '000', '000', '000', '010', '000', '000', '000', '000', '000', '000', '000', '010', '010'],\n",
       "       ['010', '000', '000', '000', '000', '652', '000', '000', '000', '000', '000', '000', '010', '010'],\n",
       "       ['010', '000', '000', '000', '000', '000', '000', '000', '000', '000', '000', '640', '010', '010'],\n",
       "       ['010', '000', '000', '000', '000', '000', '000', '000', '000', '000', '000', '000', '010', '010'],\n",
       "       ['010', '010', '010', '010', '010', '010', '010', '010', '010', '010', '010', '020', '010', '010']], dtype='<U3')"
      ]
     },
     "execution_count": 63,
     "metadata": {},
     "output_type": "execute_result"
    }
   ],
   "source": [
    "items_and_orientation_2d_array"
   ]
  },
  {
   "cell_type": "code",
   "execution_count": 59,
   "metadata": {
    "scrolled": true
   },
   "outputs": [
    {
     "ename": "AttributeError",
     "evalue": "'str' object has no attribute 'contains'",
     "output_type": "error",
     "traceback": [
      "\u001b[1;31m---------------------------------------------------------------------------\u001b[0m",
      "\u001b[1;31mAttributeError\u001b[0m                            Traceback (most recent call last)",
      "Cell \u001b[1;32mIn[59], line 1\u001b[0m\n\u001b[1;32m----> 1\u001b[0m np\u001b[38;5;241m.\u001b[39mwhere(\u001b[38;5;28;43mstr\u001b[39;49m\u001b[43m(\u001b[49m\u001b[43mitems_and_orientation_2d_array\u001b[49m\u001b[43m)\u001b[49m\u001b[38;5;241;43m.\u001b[39;49m\u001b[43mcontains\u001b[49m(\u001b[38;5;124m'\u001b[39m\u001b[38;5;124m65\u001b[39m\u001b[38;5;124m'\u001b[39m))\n",
      "\u001b[1;31mAttributeError\u001b[0m: 'str' object has no attribute 'contains'"
     ]
    }
   ],
   "source": [
    "np.where(items_and_orientation_2d_array.contains('65'))"
   ]
  },
  {
   "cell_type": "code",
   "execution_count": 79,
   "metadata": {},
   "outputs": [
    {
     "name": "stdout",
     "output_type": "stream",
     "text": [
      "other\n"
     ]
    }
   ],
   "source": [
    "i = 'a'\n",
    "match i:\n",
    "    case '04':\n",
    "        print('turn_left')\n",
    "    case '05':\n",
    "        print('turn_right')\n",
    "    case other:\n",
    "        print('other')"
   ]
  },
  {
   "cell_type": "code",
   "execution_count": 25,
   "metadata": {},
   "outputs": [
    {
     "name": "stdout",
     "output_type": "stream",
     "text": [
      "(array([13], dtype=int64), array([11], dtype=int64))\n"
     ]
    }
   ],
   "source": [
    "starting_position = np.where(items_and_orientation_2d_array=='020')\n",
    "print(starting_position)"
   ]
  },
  {
   "cell_type": "code",
   "execution_count": 26,
   "metadata": {},
   "outputs": [
    {
     "data": {
      "text/plain": [
       "'020'"
      ]
     },
     "execution_count": 26,
     "metadata": {},
     "output_type": "execute_result"
    }
   ],
   "source": [
    "items_and_orientation_2d_array[13][11]"
   ]
  },
  {
   "cell_type": "code",
   "execution_count": 46,
   "metadata": {},
   "outputs": [],
   "source": [
    "x = np.asarray(starting_position).T[0][0]\n",
    "y= np.asarray(starting_position).T[0][1]"
   ]
  },
  {
   "cell_type": "code",
   "execution_count": 47,
   "metadata": {},
   "outputs": [
    {
     "name": "stdout",
     "output_type": "stream",
     "text": [
      "13 11\n"
     ]
    }
   ],
   "source": [
    "print(x ,y)"
   ]
  },
  {
   "cell_type": "code",
   "execution_count": 32,
   "metadata": {},
   "outputs": [
    {
     "data": {
      "text/plain": [
       "tuple"
      ]
     },
     "execution_count": 32,
     "metadata": {},
     "output_type": "execute_result"
    }
   ],
   "source": [
    "type(starting_position)"
   ]
  },
  {
   "cell_type": "code",
   "execution_count": 35,
   "metadata": {},
   "outputs": [
    {
     "ename": "AttributeError",
     "evalue": "'tuple' object has no attribute 'item'",
     "output_type": "error",
     "traceback": [
      "\u001b[1;31m---------------------------------------------------------------------------\u001b[0m",
      "\u001b[1;31mAttributeError\u001b[0m                            Traceback (most recent call last)",
      "Cell \u001b[1;32mIn[35], line 1\u001b[0m\n\u001b[1;32m----> 1\u001b[0m \u001b[43mstarting_position\u001b[49m\u001b[38;5;241;43m.\u001b[39;49m\u001b[43mitem\u001b[49m(\u001b[38;5;241m1\u001b[39m)\n",
      "\u001b[1;31mAttributeError\u001b[0m: 'tuple' object has no attribute 'item'"
     ]
    }
   ],
   "source": [
    "starting_position.item(1)"
   ]
  },
  {
   "cell_type": "code",
   "execution_count": 34,
   "metadata": {},
   "outputs": [
    {
     "data": {
      "text/plain": [
       "numpy.ndarray"
      ]
     },
     "execution_count": 34,
     "metadata": {},
     "output_type": "execute_result"
    }
   ],
   "source": [
    "type(starting_position[0])"
   ]
  },
  {
   "cell_type": "code",
   "execution_count": 31,
   "metadata": {},
   "outputs": [
    {
     "data": {
      "text/plain": [
       "array(['020'], dtype='<U3')"
      ]
     },
     "execution_count": 31,
     "metadata": {},
     "output_type": "execute_result"
    }
   ],
   "source": [
    "items_and_orientation_2d_array[starting_position]"
   ]
  },
  {
   "cell_type": "code",
   "execution_count": 63,
   "metadata": {},
   "outputs": [
    {
     "data": {
      "text/plain": [
       "array([0, 1, 1])"
      ]
     },
     "execution_count": 63,
     "metadata": {},
     "output_type": "execute_result"
    }
   ],
   "source": [
    "np.append(np.array([0,1]),[1])"
   ]
  },
  {
   "cell_type": "code",
   "execution_count": 65,
   "metadata": {},
   "outputs": [],
   "source": [
    "ex1 = np.array([0,1])\n",
    "ex2 = np.array([2,3])\n",
    "ex3 = np.array([4,5])"
   ]
  },
  {
   "cell_type": "code",
   "execution_count": 70,
   "metadata": {},
   "outputs": [
    {
     "data": {
      "text/plain": [
       "array([[0, 1, 2, 3],\n",
       "       [0, 1, 4, 5]])"
      ]
     },
     "execution_count": 70,
     "metadata": {},
     "output_type": "execute_result"
    }
   ],
   "source": [
    "# a split item működhetne valahogy így:\n",
    "np.stack((np.append(ex1,ex2), np.append(ex1,ex3)))"
   ]
  },
  {
   "cell_type": "code",
   "execution_count": 68,
   "metadata": {},
   "outputs": [
    {
     "ename": "TypeError",
     "evalue": "only integer scalar arrays can be converted to a scalar index",
     "output_type": "error",
     "traceback": [
      "\u001b[1;31m---------------------------------------------------------------------------\u001b[0m",
      "\u001b[1;31mTypeError\u001b[0m                                 Traceback (most recent call last)",
      "Cell \u001b[1;32mIn[68], line 1\u001b[0m\n\u001b[1;32m----> 1\u001b[0m \u001b[43mnp\u001b[49m\u001b[38;5;241;43m.\u001b[39;49m\u001b[43mstack\u001b[49m\u001b[43m(\u001b[49m\u001b[43mex1\u001b[49m\u001b[43m,\u001b[49m\u001b[43mex2\u001b[49m\u001b[43m)\u001b[49m\n",
      "File \u001b[1;32m<__array_function__ internals>:200\u001b[0m, in \u001b[0;36mstack\u001b[1;34m(*args, **kwargs)\u001b[0m\n",
      "File \u001b[1;32m~\\AppData\\Local\\Programs\\Python\\Python311\\Lib\\site-packages\\numpy\\core\\shape_base.py:467\u001b[0m, in \u001b[0;36mstack\u001b[1;34m(arrays, axis, out, dtype, casting)\u001b[0m\n\u001b[0;32m    464\u001b[0m     \u001b[38;5;28;01mraise\u001b[39;00m \u001b[38;5;167;01mValueError\u001b[39;00m(\u001b[38;5;124m'\u001b[39m\u001b[38;5;124mall input arrays must have the same shape\u001b[39m\u001b[38;5;124m'\u001b[39m)\n\u001b[0;32m    466\u001b[0m result_ndim \u001b[38;5;241m=\u001b[39m arrays[\u001b[38;5;241m0\u001b[39m]\u001b[38;5;241m.\u001b[39mndim \u001b[38;5;241m+\u001b[39m \u001b[38;5;241m1\u001b[39m\n\u001b[1;32m--> 467\u001b[0m axis \u001b[38;5;241m=\u001b[39m \u001b[43mnormalize_axis_index\u001b[49m\u001b[43m(\u001b[49m\u001b[43maxis\u001b[49m\u001b[43m,\u001b[49m\u001b[43m \u001b[49m\u001b[43mresult_ndim\u001b[49m\u001b[43m)\u001b[49m\n\u001b[0;32m    469\u001b[0m sl \u001b[38;5;241m=\u001b[39m (\u001b[38;5;28mslice\u001b[39m(\u001b[38;5;28;01mNone\u001b[39;00m),) \u001b[38;5;241m*\u001b[39m axis \u001b[38;5;241m+\u001b[39m (_nx\u001b[38;5;241m.\u001b[39mnewaxis,)\n\u001b[0;32m    470\u001b[0m expanded_arrays \u001b[38;5;241m=\u001b[39m [arr[sl] \u001b[38;5;28;01mfor\u001b[39;00m arr \u001b[38;5;129;01min\u001b[39;00m arrays]\n",
      "\u001b[1;31mTypeError\u001b[0m: only integer scalar arrays can be converted to a scalar index"
     ]
    }
   ],
   "source": [
    "np.stack(ex1,ex2)"
   ]
  },
  {
   "cell_type": "code",
   "execution_count": null,
   "metadata": {},
   "outputs": [],
   "source": []
  },
  {
   "cell_type": "code",
   "execution_count": 18,
   "metadata": {},
   "outputs": [
    {
     "data": {
      "text/plain": [
       "array([['010', '010', '010', '010', '010', '010', '010', '010', '010', '010', '010', '010', '010',\n",
       "        '010'],\n",
       "       ['010', '043', '243', '243', '413', '363', '213', '243', '243', '243', '153', '040', '010',\n",
       "        '010'],\n",
       "       ['010', '242', '043', '563', '563', '563', '563', '563', '563', '563', '040', '620', '010',\n",
       "        '010'],\n",
       "       ['010', '242', '562', '043', '553', '553', '553', '553', '553', '040', '560', '240', '010',\n",
       "        '010'],\n",
       "       ['010', '242', '562', '552', '043', '543', '553', '553', '040', '550', '560', '440', '010',\n",
       "        '010'],\n",
       "       ['010', '242', '562', '552', '042', '541', '451', '051', '550', '550', '560', '620', '010',\n",
       "        '010'],\n",
       "       ['010', '242', '562', '552', '010', '010', '010', '162', '550', '550', '560', '160', '010',\n",
       "        '010'],\n",
       "       ['010', '572', '562', '552', '010', '010', '010', '162', '550', '550', '560', '160', '010',\n",
       "        '010'],\n",
       "       ['010', '572', '562', '552', '010', '030', '010', '362', '550', '550', '560', '160', '010',\n",
       "        '010'],\n",
       "       ['010', '572', '562', '552', '010', '053', '433', '052', '550', '550', '560', '160', '010',\n",
       "        '010'],\n",
       "       ['010', '572', '562', '042', '551', '551', '551', '551', '041', '550', '560', '510', '010',\n",
       "        '010'],\n",
       "       ['010', '562', '042', '561', '561', '551', '551', '551', '551', '041', '560', '470', '010',\n",
       "        '010'],\n",
       "       ['010', '042', '561', '561', '571', '571', '561', '561', '561', '561', '041', '480', '010',\n",
       "        '010'],\n",
       "       ['010', '010', '010', '010', '010', '010', '010', '010', '010', '010', '010', '020', '010',\n",
       "        '010']], dtype='<U3')"
      ]
     },
     "execution_count": 18,
     "metadata": {},
     "output_type": "execute_result"
    }
   ],
   "source": [
    "items_and_orientation_2d_array"
   ]
  },
  {
   "cell_type": "code",
   "execution_count": null,
   "metadata": {},
   "outputs": [],
   "source": []
  },
  {
   "cell_type": "code",
   "execution_count": null,
   "metadata": {},
   "outputs": [],
   "source": []
  },
  {
   "cell_type": "code",
   "execution_count": 22,
   "metadata": {
    "scrolled": true
   },
   "outputs": [
    {
     "data": {
      "text/plain": [
       "array(['01', '01', '01', '01', '01', '01', '01', '01', '01', '01', '01', '01', '01', '01', '01',\n",
       "       '04', '24', '24', '41', '36', '21', '24', '24', '24', '15', '04', '01', '01', '01', '24',\n",
       "       '04', '56', '56', '56', '56', '56', '56', '56', '04', '62', '01', '01', '01', '24', '56',\n",
       "       '04', '55', '55', '55', '55', '55', '04', '56', '24', '01', '01', '01', '24', '56', '55',\n",
       "       '04', '54', '55', '55', '04', '55', '56', '44', '01', '01', '01', '24', '56', '55', '04',\n",
       "       '54', '45', '05', '55', '55', '56', '62', '01', '01', '01', '24', '56', '55', '01', '01',\n",
       "       '01', '16', '55', '55', '56', '16', '01', '01', '01', '57', '56', '55', '01', '01', '01',\n",
       "       '16', '55', '55', '56', '16', '01', '01', '01', '57', '56', '55', '01', '03', '01', '36',\n",
       "       '55', '55', '56', '16', '01', '01', '01', '57', '56', '55', '01', '05', '43', '05', '55',\n",
       "       '55', '56', '16', '01', '01', '01', '57', '56', '04', '55', '55', '55', '55', '04', '55',\n",
       "       '56', '51', '01', '01', '01', '56', '04', '56', '56', '55', '55', '55', '55', '04', '56',\n",
       "       '47', '01', '01', '01', '04', '56', '56', '57', '57', '56', '56', '56', '56', '04', '48',\n",
       "       '01', '01', '01', '01', '01', '01', '01', '01', '01', '01', '01', '01', '01', '02', '01',\n",
       "       '01'], dtype=object)"
      ]
     },
     "execution_count": 22,
     "metadata": {},
     "output_type": "execute_result"
    }
   ],
   "source": [
    "pd.Series(item_list).str[0:2].values"
   ]
  },
  {
   "cell_type": "code",
   "execution_count": null,
   "metadata": {},
   "outputs": [],
   "source": [
    "def item_mapper(item_list):\n",
    "    item_mapping = {'010'\n",
    "        \n",
    "\n",
    "}"
   ]
  },
  {
   "cell_type": "code",
   "execution_count": 27,
   "metadata": {
    "collapsed": true
   },
   "outputs": [
    {
     "name": "stdout",
     "output_type": "stream",
     "text": [
      "[['010' '010' '010' '010' '010' '010' '010' '010' '010' '010' '010' '010' '010' '010']\n",
      " ['010' '043' '243' '243' '413' '363' '213' '243' '243' '243' '153' '040' '010' '010']\n",
      " ['010' '242' '043' '563' '563' '563' '563' '563' '563' '563' '040' '620' '010' '010']\n",
      " ['010' '242' '562' '043' '553' '553' '553' '553' '553' '040' '560' '240' '010' '010']\n",
      " ['010' '242' '562' '552' '043' '543' '553' '553' '040' '550' '560' '440' '010' '010']\n",
      " ['010' '242' '562' '552' '042' '541' '451' '051' '550' '550' '560' '620' '010' '010']\n",
      " ['010' '242' '562' '552' '010' '010' '010' '162' '550' '550' '560' '160' '010' '010']\n",
      " ['010' '572' '562' '552' '010' '010' '010' '162' '550' '550' '560' '160' '010' '010']\n",
      " ['010' '572' '562' '552' '010' '030' '010' '362' '550' '550' '560' '160' '010' '010']\n",
      " ['010' '572' '562' '552' '010' '053' '433' '052' '550' '550' '560' '160' '010' '010']\n",
      " ['010' '572' '562' '042' '551' '551' '551' '551' '041' '550' '560' '510' '010' '010']\n",
      " ['010' '562' '042' '561' '561' '551' '551' '551' '551' '041' '560' '470' '010' '010']\n",
      " ['010' '042' '561' '561' '571' '571' '561' '561' '561' '561' '041' '480' '010' '010']\n",
      " ['010' '010' '010' '010' '010' '010' '010' '010' '010' '010' '010' '020' '010' '010']]\n"
     ]
    }
   ],
   "source": [
    "print(np.reshape(item_list, (14,14)))"
   ]
  },
  {
   "cell_type": "code",
   "execution_count": 6,
   "metadata": {},
   "outputs": [],
   "source": [
    "custom = build[0:1] # custom ship Y/N\n",
    "custom_blocks = build[1:33] # custom blocks\n",
    "custom_block_list = re.findall('..?',custom_blocks)\n",
    "custom_block_name_2d_array = np.reshape(custom_block_mapper(custom_block_list), (4,4))\n",
    "custom_block_id_2d_array = np.reshape(custom_block_list, (4,4))\n",
    "items = build[33:] #items\n",
    "item_list = re.findall('...?',items)"
   ]
  },
  {
   "cell_type": "code",
   "execution_count": null,
   "metadata": {},
   "outputs": [],
   "source": [
    "item_mapping = {\n",
    "\n",
    "}"
   ]
  },
  {
   "cell_type": "code",
   "execution_count": 17,
   "metadata": {},
   "outputs": [
    {
     "data": {
      "text/plain": [
       "['010',\n",
       " '010',\n",
       " '010',\n",
       " '010',\n",
       " '010',\n",
       " '010',\n",
       " '010',\n",
       " '010',\n",
       " '010',\n",
       " '010',\n",
       " '010',\n",
       " '010',\n",
       " '010',\n",
       " '010',\n",
       " '010',\n",
       " '010',\n",
       " '010',\n",
       " '050',\n",
       " '551',\n",
       " '051',\n",
       " '010',\n",
       " '050',\n",
       " '051',\n",
       " '010',\n",
       " '043',\n",
       " '040',\n",
       " '010',\n",
       " '010',\n",
       " '010',\n",
       " '010',\n",
       " '043',\n",
       " '300',\n",
       " '040',\n",
       " '552',\n",
       " '010',\n",
       " '550',\n",
       " '552',\n",
       " '010',\n",
       " '572',\n",
       " '430',\n",
       " '010',\n",
       " '010',\n",
       " '010',\n",
       " '050',\n",
       " '301',\n",
       " '041',\n",
       " '550',\n",
       " '552',\n",
       " '010',\n",
       " '550',\n",
       " '552',\n",
       " '010',\n",
       " '562',\n",
       " '420',\n",
       " '010',\n",
       " '010',\n",
       " '010',\n",
       " '240',\n",
       " '242',\n",
       " '010',\n",
       " '550',\n",
       " '552',\n",
       " '010',\n",
       " '550',\n",
       " '552',\n",
       " '010',\n",
       " '562',\n",
       " '410',\n",
       " '010',\n",
       " '010',\n",
       " '010',\n",
       " '240',\n",
       " '242',\n",
       " '010',\n",
       " '550',\n",
       " '552',\n",
       " '010',\n",
       " '550',\n",
       " '552',\n",
       " '010',\n",
       " '562',\n",
       " '360',\n",
       " '010',\n",
       " '010',\n",
       " '010',\n",
       " '240',\n",
       " '242',\n",
       " '010',\n",
       " '550',\n",
       " '552',\n",
       " '010',\n",
       " '550',\n",
       " '552',\n",
       " '010',\n",
       " '562',\n",
       " '210',\n",
       " '010',\n",
       " '010',\n",
       " '010',\n",
       " '240',\n",
       " '242',\n",
       " '010',\n",
       " '570',\n",
       " '552',\n",
       " '010',\n",
       " '550',\n",
       " '552',\n",
       " '010',\n",
       " '562',\n",
       " '260',\n",
       " '010',\n",
       " '010',\n",
       " '010',\n",
       " '240',\n",
       " '242',\n",
       " '010',\n",
       " '550',\n",
       " '552',\n",
       " '010',\n",
       " '550',\n",
       " '552',\n",
       " '010',\n",
       " '552',\n",
       " '160',\n",
       " '010',\n",
       " '010',\n",
       " '010',\n",
       " '053',\n",
       " '052',\n",
       " '010',\n",
       " '280',\n",
       " '552',\n",
       " '010',\n",
       " '550',\n",
       " '552',\n",
       " '010',\n",
       " '552',\n",
       " '160',\n",
       " '010',\n",
       " '010',\n",
       " '010',\n",
       " '010',\n",
       " '010',\n",
       " '010',\n",
       " '280',\n",
       " '042',\n",
       " '551',\n",
       " '041',\n",
       " '572',\n",
       " '010',\n",
       " '552',\n",
       " '510',\n",
       " '010',\n",
       " '010',\n",
       " '010',\n",
       " '010',\n",
       " '030',\n",
       " '010',\n",
       " '053',\n",
       " '153',\n",
       " '153',\n",
       " '651',\n",
       " '572',\n",
       " '010',\n",
       " '552',\n",
       " '480',\n",
       " '010',\n",
       " '010',\n",
       " '010',\n",
       " '010',\n",
       " '053',\n",
       " '363',\n",
       " '163',\n",
       " '163',\n",
       " '453',\n",
       " '343',\n",
       " '052',\n",
       " '010',\n",
       " '642',\n",
       " '470',\n",
       " '010',\n",
       " '010',\n",
       " '010',\n",
       " '010',\n",
       " '010',\n",
       " '010',\n",
       " '010',\n",
       " '010',\n",
       " '010',\n",
       " '010',\n",
       " '010',\n",
       " '010',\n",
       " '010',\n",
       " '020',\n",
       " '010',\n",
       " '010']"
      ]
     },
     "execution_count": 17,
     "metadata": {},
     "output_type": "execute_result"
    }
   ],
   "source": [
    "item_list"
   ]
  },
  {
   "cell_type": "markdown",
   "metadata": {},
   "source": [
    "to do:\n",
    "item_list-re csinálni mappelőt.\n",
    "megírni a kezdő pontot az array-re.\n",
    "megírni egy functiont ami elindul a path-on és úgy teszi sorba az itemeket egy listába\n",
    "a direction-t kitalálni, hogy melyik mi. Gondolom a 0 az up.\n"
   ]
  },
  {
   "cell_type": "code",
   "execution_count": 18,
   "metadata": {
    "scrolled": false
   },
   "outputs": [
    {
     "name": "stdout",
     "output_type": "stream",
     "text": [
      "[['010' '010' '010' '010' '010' '010' '010' '010' '010' '010' '010' '010' '010' '010']\n",
      " ['010' '010' '010' '050' '551' '051' '010' '050' '051' '010' '043' '040' '010' '010']\n",
      " ['010' '010' '043' '300' '040' '552' '010' '550' '552' '010' '572' '430' '010' '010']\n",
      " ['010' '050' '301' '041' '550' '552' '010' '550' '552' '010' '562' '420' '010' '010']\n",
      " ['010' '240' '242' '010' '550' '552' '010' '550' '552' '010' '562' '410' '010' '010']\n",
      " ['010' '240' '242' '010' '550' '552' '010' '550' '552' '010' '562' '360' '010' '010']\n",
      " ['010' '240' '242' '010' '550' '552' '010' '550' '552' '010' '562' '210' '010' '010']\n",
      " ['010' '240' '242' '010' '570' '552' '010' '550' '552' '010' '562' '260' '010' '010']\n",
      " ['010' '240' '242' '010' '550' '552' '010' '550' '552' '010' '552' '160' '010' '010']\n",
      " ['010' '053' '052' '010' '280' '552' '010' '550' '552' '010' '552' '160' '010' '010']\n",
      " ['010' '010' '010' '010' '280' '042' '551' '041' '572' '010' '552' '510' '010' '010']\n",
      " ['010' '010' '030' '010' '053' '153' '153' '651' '572' '010' '552' '480' '010' '010']\n",
      " ['010' '010' '053' '363' '163' '163' '453' '343' '052' '010' '642' '470' '010' '010']\n",
      " ['010' '010' '010' '010' '010' '010' '010' '010' '010' '010' '010' '020' '010' '010']]\n"
     ]
    }
   ],
   "source": [
    "print(np.reshape(item_list, (14,14)))"
   ]
  },
  {
   "cell_type": "code",
   "execution_count": 38,
   "metadata": {},
   "outputs": [],
   "source": [
    "custom_block_mapping = {'01':'ejection_up', '02':'auto_fly', '03':'second_try'\n",
    "                        , '04':'manual_burst', '05':'3x3', '06':'blue'\n",
    "                        , '07':'longer_countdown', '08':'light_green', '09':'skipp'\n",
    "                        , '10':'10%_more', '11':'ejection_side', '12':'red_after_wave'}"
   ]
  },
  {
   "cell_type": "code",
   "execution_count": 39,
   "metadata": {},
   "outputs": [
    {
     "data": {
      "text/plain": [
       "'ejection_up'"
      ]
     },
     "execution_count": 39,
     "metadata": {},
     "output_type": "execute_result"
    }
   ],
   "source": [
    "custom_block_mapping['01']"
   ]
  },
  {
   "cell_type": "code",
   "execution_count": 13,
   "metadata": {},
   "outputs": [
    {
     "data": {
      "text/plain": [
       "array([['09', '06', '06', '06'],\n",
       "       ['06', '06', '06', '06'],\n",
       "       ['06', '06', '06', '06'],\n",
       "       ['01', '05', '06', '06']], dtype='<U2')"
      ]
     },
     "execution_count": 13,
     "metadata": {},
     "output_type": "execute_result"
    }
   ],
   "source": [
    "custom_block_2d_array = np.reshape(custom_block_list, (4,4))\n",
    "custom_block_2d_array"
   ]
  },
  {
   "cell_type": "code",
   "execution_count": 20,
   "metadata": {},
   "outputs": [
    {
     "data": {
      "text/plain": [
       "array([['skipp', 'blue', 'blue', 'blue'],\n",
       "       ['blue', 'blue', 'blue', 'blue'],\n",
       "       ['blue', 'blue', 'blue', 'blue'],\n",
       "       ['ejection_up', '3x3', 'blue', 'blue']], dtype='<U11')"
      ]
     },
     "execution_count": 20,
     "metadata": {},
     "output_type": "execute_result"
    }
   ],
   "source": [
    "#3d array transformation for custom ship blocks\n",
    "np.reshape(custom_block_mapper(custom_block_list), (4,4))"
   ]
  },
  {
   "cell_type": "code",
   "execution_count": null,
   "metadata": {},
   "outputs": [],
   "source": [
    "def custom_block_mapper(custom_block_number):\n",
    "    custom_block_mapping = {'01':'ejection_up', '02':'auto_fly', '03':'second_try'\n",
    "                        , '04':'manual_burst', '05':'3x3', '06':'blue'\n",
    "                        , '07':'longer_countdown', '08':'light_green', '09':'skipp'\n",
    "                        , '10':'10%_more', '11':'ejection_side', '12':'red_after_wave'}\n",
    "    custom_block_element_name = [custom_block_mapping[x] for x in custom_block_number]\n",
    "    return custom_block_element_name"
   ]
  },
  {
   "cell_type": "code",
   "execution_count": null,
   "metadata": {},
   "outputs": [
    {
     "data": {
      "text/plain": [
       "['010',\n",
       " '010',\n",
       " '010',\n",
       " '010',\n",
       " '010',\n",
       " '010',\n",
       " '010',\n",
       " '010',\n",
       " '010',\n",
       " '010',\n",
       " '010',\n",
       " '010',\n",
       " '010',\n",
       " '010',\n",
       " '010',\n",
       " '010',\n",
       " '010',\n",
       " '050',\n",
       " '551',\n",
       " '051',\n",
       " '010',\n",
       " '050',\n",
       " '051',\n",
       " '010',\n",
       " '043',\n",
       " '040',\n",
       " '010',\n",
       " '010',\n",
       " '010',\n",
       " '010',\n",
       " '043',\n",
       " '300',\n",
       " '040',\n",
       " '552',\n",
       " '010',\n",
       " '550',\n",
       " '552',\n",
       " '010',\n",
       " '572',\n",
       " '430',\n",
       " '010',\n",
       " '010',\n",
       " '010',\n",
       " '050',\n",
       " '301',\n",
       " '041',\n",
       " '550',\n",
       " '552',\n",
       " '010',\n",
       " '550',\n",
       " '552',\n",
       " '010',\n",
       " '562',\n",
       " '420',\n",
       " '010',\n",
       " '010',\n",
       " '010',\n",
       " '240',\n",
       " '242',\n",
       " '010',\n",
       " '550',\n",
       " '552',\n",
       " '010',\n",
       " '550',\n",
       " '552',\n",
       " '010',\n",
       " '562',\n",
       " '410',\n",
       " '010',\n",
       " '010',\n",
       " '010',\n",
       " '240',\n",
       " '242',\n",
       " '010',\n",
       " '550',\n",
       " '552',\n",
       " '010',\n",
       " '550',\n",
       " '552',\n",
       " '010',\n",
       " '562',\n",
       " '360',\n",
       " '010',\n",
       " '010',\n",
       " '010',\n",
       " '240',\n",
       " '242',\n",
       " '010',\n",
       " '550',\n",
       " '552',\n",
       " '010',\n",
       " '550',\n",
       " '552',\n",
       " '010',\n",
       " '562',\n",
       " '210',\n",
       " '010',\n",
       " '010',\n",
       " '010',\n",
       " '240',\n",
       " '242',\n",
       " '010',\n",
       " '570',\n",
       " '552',\n",
       " '010',\n",
       " '550',\n",
       " '552',\n",
       " '010',\n",
       " '562',\n",
       " '260',\n",
       " '010',\n",
       " '010',\n",
       " '010',\n",
       " '240',\n",
       " '242',\n",
       " '010',\n",
       " '550',\n",
       " '552',\n",
       " '010',\n",
       " '550',\n",
       " '552',\n",
       " '010',\n",
       " '552',\n",
       " '160',\n",
       " '010',\n",
       " '010',\n",
       " '010',\n",
       " '053',\n",
       " '052',\n",
       " '010',\n",
       " '280',\n",
       " '552',\n",
       " '010',\n",
       " '550',\n",
       " '552',\n",
       " '010',\n",
       " '552',\n",
       " '160',\n",
       " '010',\n",
       " '010',\n",
       " '010',\n",
       " '010',\n",
       " '010',\n",
       " '010',\n",
       " '280',\n",
       " '042',\n",
       " '551',\n",
       " '041',\n",
       " '572',\n",
       " '010',\n",
       " '552',\n",
       " '510',\n",
       " '010',\n",
       " '010',\n",
       " '010',\n",
       " '010',\n",
       " '030',\n",
       " '010',\n",
       " '053',\n",
       " '153',\n",
       " '153',\n",
       " '651',\n",
       " '572',\n",
       " '010',\n",
       " '552',\n",
       " '480',\n",
       " '010',\n",
       " '010',\n",
       " '010',\n",
       " '010',\n",
       " '053',\n",
       " '363',\n",
       " '163',\n",
       " '163',\n",
       " '453',\n",
       " '343',\n",
       " '052',\n",
       " '010',\n",
       " '642',\n",
       " '470',\n",
       " '010',\n",
       " '010',\n",
       " '010',\n",
       " '010',\n",
       " '010',\n",
       " '010',\n",
       " '010',\n",
       " '010',\n",
       " '010',\n",
       " '010',\n",
       " '010',\n",
       " '010',\n",
       " '010',\n",
       " '020',\n",
       " '010',\n",
       " '010']"
      ]
     },
     "execution_count": 6,
     "metadata": {},
     "output_type": "execute_result"
    }
   ],
   "source": [
    "item_list"
   ]
  },
  {
   "cell_type": "code",
   "execution_count": null,
   "metadata": {},
   "outputs": [],
   "source": [
    "item_list = re.findall('...?',items)"
   ]
  },
  {
   "cell_type": "code",
   "execution_count": null,
   "metadata": {
    "scrolled": true
   },
   "outputs": [
    {
     "data": {
      "text/plain": [
       "'010010010010010010010010010010010010010010010010010050551051010050051010043040010010010010043300040552010550552010572430010010010050301041550552010550552010562420010010010240242010550552010550552010562410010010010240242010550552010550552010562360010010010240242010550552010550552010562210010010010240242010570552010550552010562260010010010240242010550552010550552010552160010010010053052010280552010550552010552160010010010010010010280042551041572010552510010010010010030010053153153651572010552480010010010010053363163163453343052010642470010010010010010010010010010010010010010020010010'"
      ]
     },
     "execution_count": 4,
     "metadata": {},
     "output_type": "execute_result"
    }
   ],
   "source": [
    "build_example[33:] items"
   ]
  },
  {
   "cell_type": "code",
   "execution_count": null,
   "metadata": {},
   "outputs": [],
   "source": []
  }
 ],
 "metadata": {
  "kernelspec": {
   "display_name": "Python 3 (ipykernel)",
   "language": "python",
   "name": "python3"
  },
  "language_info": {
   "codemirror_mode": {
    "name": "ipython",
    "version": 3
   },
   "file_extension": ".py",
   "mimetype": "text/x-python",
   "name": "python",
   "nbconvert_exporter": "python",
   "pygments_lexer": "ipython3",
   "version": "3.11.1"
  },
  "vscode": {
   "interpreter": {
    "hash": "d2cae70fa6d101c531ceb62b46f547c673f511379956db15f07795792cc55efe"
   }
  }
 },
 "nbformat": 4,
 "nbformat_minor": 2
}
