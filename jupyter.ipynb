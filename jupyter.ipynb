{
 "cells": [
  {
   "cell_type": "code",
   "execution_count": 1,
   "metadata": {},
   "outputs": [],
   "source": [
    "import random\n",
    "import re\n",
    "import numpy as np\n",
    "import pandas as pd"
   ]
  },
  {
   "cell_type": "code",
   "execution_count": 74,
   "metadata": {},
   "outputs": [],
   "source": [
    "np.set_printoptions(linewidth=150)"
   ]
  },
  {
   "cell_type": "code",
   "execution_count": 3,
   "metadata": {},
   "outputs": [],
   "source": [
    "base_damage = 5\n",
    "build1 = '109060606060606060606060601050606010010010010010010010010010010010010010010010010010050551051010050051010043040010010010010043300040552010550552010572430010010010050301041550552010550552010562420010010010240242010550552010550552010562410010010010240242010550552010550552010562360010010010240242010550552010550552010562210010010010240242010570552010550552010562260010010010240242010550552010550552010552160010010010053052010280552010550552010552160010010010010010010280042551041572010552510010010010010030010053153153651572010552480010010010010053363163163453343052010642470010010010010010010010010010010010010010020010010'\n",
    "build2 = '105050506050705060501050605050506010010010010010010010010010010010010010010010043243243413363213243243243153040010010010242043563563563563563563563040620010010010242562043553553553553553040560240010010010242562552043543553553040550560440010010010242562552042541451051550550560620010010010242562552010010010162550550560160010010010572562552010010010162550550560160010010010572562552010030010362550550560160010010010572562552010053433052550550560160010010010572562042551551551551041550560510010010010562042561561551551551551041560470010010010042561561571571561561561561041480010010010010010010010010010010010010010020010010'\n",
    "build = build2"
   ]
  },
  {
   "cell_type": "code",
   "execution_count": 4,
   "metadata": {},
   "outputs": [],
   "source": [
    "def parse_build_old(build):\n",
    "    custom = build[0:1] # custom ship Y/N\n",
    "    custom_blocks = build[1:33] # custom blocks\n",
    "    custom_block_list = re.findall('..?',custom_blocks)\n",
    "    custom_block_name_2d_array = np.reshape(custom_block_mapper(custom_block_list), (4,4))\n",
    "    custom_block_id_2d_array = np.reshape(custom_block_list, (4,4))\n",
    "    items = build[33:] #items\n",
    "    items_and_orientation = re.findall('...?',items)\n",
    "    item_list = pd.Series(items_and_orientation).str[0:2].values\n",
    "    item_list_named_2d_array = ...\n",
    "    item_list_2d_array = np.reshape(item_list, (14,14))\n",
    "    return custom_block_list, custom_block_name_2d_array, custom_block_id_2d_array, item_list, item_list_2d_array"
   ]
  },
  {
   "cell_type": "code",
   "execution_count": 19,
   "metadata": {},
   "outputs": [],
   "source": [
    "def parse_build(build):\n",
    "    custom = build[0:1] # custom ship Y/N\n",
    "    custom_blocks = build[1:33] # custom blocks\n",
    "    custom_block_list = re.findall('..?',custom_blocks)\n",
    "    custom_block_name_2d_array = np.reshape(custom_block_mapper(custom_block_list), (4,4))\n",
    "    custom_block_id_2d_array = np.reshape(custom_block_list, (4,4))\n",
    "    items = build[33:] #items\n",
    "    items_and_orientation = re.findall('...?',items)\n",
    "    items_and_orientation_2d_array = np.reshape(items_and_orientation, (14,14))\n",
    "#     item_list = pd.Series(items_and_orientation).str[0:2].values\n",
    "#     item_list_named_2d_array = ...\n",
    "#     item_list_2d_array = np.reshape(item_list, (14,14))\n",
    "    return custom_block_list, custom_block_name_2d_array, custom_block_id_2d_array, items_and_orientation_2d_array"
   ]
  },
  {
   "cell_type": "code",
   "execution_count": 5,
   "metadata": {},
   "outputs": [],
   "source": [
    "def chance(percentage):\n",
    "    chance = random.randint(0,percentage)\n",
    "    return chance"
   ]
  },
  {
   "cell_type": "code",
   "execution_count": 6,
   "metadata": {},
   "outputs": [],
   "source": [
    "def custom_block_mapper(custom_block_number):\n",
    "    custom_block_mapping = {'01':'ejection_up', '02':'auto_fly', '03':'second_try'\n",
    "                        , '04':'manual_burst', '05':'3x3', '06':'blue'\n",
    "                        , '07':'longer_countdown', '08':'light_green', '09':'skipp'\n",
    "                        , '10':'10%_more', '11':'ejection_side', '12':'red_after_wave'}\n",
    "    custom_block_element_name = [custom_block_mapping[x] for x in custom_block_number]\n",
    "    return custom_block_element_name"
   ]
  },
  {
   "cell_type": "code",
   "execution_count": 7,
   "metadata": {},
   "outputs": [],
   "source": [
    "class item:\n",
    "    def __init__(self, id, orientation):\n",
    "        self.id = id\n",
    "        self.orientation = orientation"
   ]
  },
  {
   "cell_type": "code",
   "execution_count": 8,
   "metadata": {},
   "outputs": [],
   "source": [
    "def slicer_vectorized(a,start,end):\n",
    "    b = a.view((str,1)).reshape(len(a),-1)[:,start:end]\n",
    "    return np.fromstring(b.tostring(),dtype=(str,end-start))"
   ]
  },
  {
   "cell_type": "code",
   "execution_count": null,
   "metadata": {},
   "outputs": [],
   "source": []
  },
  {
   "cell_type": "markdown",
   "metadata": {},
   "source": [
    "A zip funkció jó lehet nekem az item lista darabolására array-be.\n",
    "https://stackoverflow.com/questions/48633549/splitting-a-list-of-strings-with-a-delimiter-and-adding-to-new-lists"
   ]
  },
  {
   "cell_type": "code",
   "execution_count": null,
   "metadata": {},
   "outputs": [],
   "source": []
  },
  {
   "cell_type": "markdown",
   "metadata": {},
   "source": [
    "DEV ZONE"
   ]
  },
  {
   "cell_type": "code",
   "execution_count": 75,
   "metadata": {},
   "outputs": [
    {
     "data": {
      "text/plain": [
       "array([['010', '010', '010', '010', '010', '010', '010', '010', '010', '010', '010', '010', '010', '010'],\n",
       "       ['010', '043', '243', '243', '413', '363', '213', '243', '243', '243', '153', '040', '010', '010'],\n",
       "       ['010', '242', '043', '563', '563', '563', '563', '563', '563', '563', '040', '620', '010', '010'],\n",
       "       ['010', '242', '562', '043', '553', '553', '553', '553', '553', '040', '560', '240', '010', '010'],\n",
       "       ['010', '242', '562', '552', '043', '543', '553', '553', '040', '550', '560', '440', '010', '010'],\n",
       "       ['010', '242', '562', '552', '042', '541', '451', '051', '550', '550', '560', '620', '010', '010'],\n",
       "       ['010', '242', '562', '552', '010', '010', '010', '162', '550', '550', '560', '160', '010', '010'],\n",
       "       ['010', '572', '562', '552', '010', '010', '010', '162', '550', '550', '560', '160', '010', '010'],\n",
       "       ['010', '572', '562', '552', '010', '030', '010', '362', '550', '550', '560', '160', '010', '010'],\n",
       "       ['010', '572', '562', '552', '010', '053', '433', '052', '550', '550', '560', '160', '010', '010'],\n",
       "       ['010', '572', '562', '042', '551', '551', '551', '551', '041', '550', '560', '510', '010', '010'],\n",
       "       ['010', '562', '042', '561', '561', '551', '551', '551', '551', '041', '560', '470', '010', '010'],\n",
       "       ['010', '042', '561', '561', '571', '571', '561', '561', '561', '561', '041', '480', '010', '010'],\n",
       "       ['010', '010', '010', '010', '010', '010', '010', '010', '010', '010', '010', '020', '010', '010']], dtype='<U3')"
      ]
     },
     "execution_count": 75,
     "metadata": {},
     "output_type": "execute_result"
    }
   ],
   "source": [
    "items_and_orientation_2d_array"
   ]
  },
  {
   "cell_type": "code",
   "execution_count": 105,
   "metadata": {},
   "outputs": [],
   "source": [
    "def get_starting_position(items_and_orientation_2d_array):\n",
    "    starting_position = np.where(items_and_orientation_2d_array=='020')\n",
    "    x0 = np.asarray(starting_position).T[0][0]\n",
    "    y0 = np.asarray(starting_position).T[0][1]\n",
    "    return x0, y0"
   ]
  },
  {
   "cell_type": "code",
   "execution_count": 96,
   "metadata": {},
   "outputs": [],
   "source": [
    "directions = (0,1,2,3)\n",
    "def turn(id, turn):\n",
    "    # 0 - up, 1 - right, 2 - down, 3 - left\n",
    "    match turn:\n",
    "        case 'turn_left':\n",
    "            id -= 1\n",
    "            if id < 0:\n",
    "                id = 3\n",
    "        case 'turn_right':\n",
    "            id += 1\n",
    "            if id > 3:\n",
    "                id = 0\n",
    "    return directions[id]"
   ]
  },
  {
   "cell_type": "code",
   "execution_count": 115,
   "metadata": {},
   "outputs": [],
   "source": [
    "def next_coordination(x_coord, y_coord, item_with_orientation):\n",
    "    item = item_with_orientation[0:2]\n",
    "    orientation = item_with_orientation[2]\n",
    "    match item:\n",
    "        case '04':\n",
    "            direction = turn(orientation,'turn_left')\n",
    "        case '05':\n",
    "            direction = turn(orientation,'turn_right')\n",
    "        case other:\n",
    "            direction = orientation\n",
    "    match orientation:\n",
    "        case '0':\n",
    "            y_coord -= 1 #rossz id-t módosítok, az x a 13, és azt kell csökkenteni 0-nál. Átírni, vagy a variable is lehetne más, mondjuk h_coord, v_coord.\n",
    "        case '1':\n",
    "            x_coord += 1\n",
    "        case '2':\n",
    "            y_coord += 1\n",
    "        case '3':\n",
    "            x_coord -= 1\n",
    "    return x_coord, y_coord"
   ]
  },
  {
   "cell_type": "code",
   "execution_count": null,
   "metadata": {},
   "outputs": [],
   "source": []
  },
  {
   "cell_type": "code",
   "execution_count": 107,
   "metadata": {},
   "outputs": [],
   "source": [
    "starting_position = get_starting_position(items_and_orientation_2d_array)"
   ]
  },
  {
   "cell_type": "code",
   "execution_count": 108,
   "metadata": {},
   "outputs": [
    {
     "data": {
      "text/plain": [
       "(13, 11)"
      ]
     },
     "execution_count": 108,
     "metadata": {},
     "output_type": "execute_result"
    }
   ],
   "source": [
    "starting_position"
   ]
  },
  {
   "cell_type": "code",
   "execution_count": 110,
   "metadata": {},
   "outputs": [],
   "source": [
    "current_x = starting_position[0]\n",
    "current_y = starting_position[1]"
   ]
  },
  {
   "cell_type": "code",
   "execution_count": 114,
   "metadata": {},
   "outputs": [
    {
     "data": {
      "text/plain": [
       "'0'"
      ]
     },
     "execution_count": 114,
     "metadata": {},
     "output_type": "execute_result"
    }
   ],
   "source": [
    "items_and_orientation_2d_array[current_x,current_y][2]"
   ]
  },
  {
   "cell_type": "code",
   "execution_count": 129,
   "metadata": {
    "scrolled": true
   },
   "outputs": [
    {
     "name": "stdout",
     "output_type": "stream",
     "text": [
      "13 10\n",
      "020\n"
     ]
    }
   ],
   "source": [
    "next_x, next_y = next_coordination(current_x, current_y, items_and_orientation_2d_array[current_x,current_y])\n",
    "print(next_x, next_y)\n",
    "print(items_and_orientation_2d_array[current_x,current_y])"
   ]
  },
  {
   "cell_type": "code",
   "execution_count": 137,
   "metadata": {},
   "outputs": [
    {
     "name": "stdout",
     "output_type": "stream",
     "text": [
      "13 2\n",
      "010\n"
     ]
    }
   ],
   "source": [
    "next_x, next_y = next_coordination(next_x, next_y, items_and_orientation_2d_array[next_x,next_y])\n",
    "print(next_x, next_y)\n",
    "print(items_and_orientation_2d_array[next_x,next_y])"
   ]
  },
  {
   "cell_type": "code",
   "execution_count": 138,
   "metadata": {},
   "outputs": [
    {
     "data": {
      "text/plain": [
       "(array([1], dtype=int64), array([10], dtype=int64))"
      ]
     },
     "execution_count": 138,
     "metadata": {},
     "output_type": "execute_result"
    }
   ],
   "source": [
    "np.where(items_and_orientation_2d_array=='153')"
   ]
  },
  {
   "cell_type": "code",
   "execution_count": 79,
   "metadata": {},
   "outputs": [
    {
     "name": "stdout",
     "output_type": "stream",
     "text": [
      "other\n"
     ]
    }
   ],
   "source": [
    "i = 'a'\n",
    "match i:\n",
    "    case '04':\n",
    "        print('turn_left')\n",
    "    case '05':\n",
    "        print('turn_right')\n",
    "    case other:\n",
    "        print('other')"
   ]
  },
  {
   "cell_type": "code",
   "execution_count": null,
   "metadata": {},
   "outputs": [],
   "source": [
    "def convert_array_to_list(items_and_orientation_2d_array):\n",
    "    x0, y0 = get_starting_position(items_and_orientation_2d_array)\n",
    "    next_coordination(x0, y0, item)\n",
    "    item_list = ()\n",
    "    add_item"
   ]
  },
  {
   "cell_type": "code",
   "execution_count": null,
   "metadata": {},
   "outputs": [],
   "source": [
    "def add_item(coordination, array):\n",
    "    "
   ]
  },
  {
   "cell_type": "code",
   "execution_count": 25,
   "metadata": {},
   "outputs": [
    {
     "name": "stdout",
     "output_type": "stream",
     "text": [
      "(array([13], dtype=int64), array([11], dtype=int64))\n"
     ]
    }
   ],
   "source": [
    "starting_position = np.where(items_and_orientation_2d_array=='020')\n",
    "print(starting_position)"
   ]
  },
  {
   "cell_type": "code",
   "execution_count": 26,
   "metadata": {},
   "outputs": [
    {
     "data": {
      "text/plain": [
       "'020'"
      ]
     },
     "execution_count": 26,
     "metadata": {},
     "output_type": "execute_result"
    }
   ],
   "source": [
    "items_and_orientation_2d_array[13][11]"
   ]
  },
  {
   "cell_type": "code",
   "execution_count": 46,
   "metadata": {},
   "outputs": [],
   "source": [
    "x = np.asarray(starting_position).T[0][0]\n",
    "y= np.asarray(starting_position).T[0][1]"
   ]
  },
  {
   "cell_type": "code",
   "execution_count": 47,
   "metadata": {},
   "outputs": [
    {
     "name": "stdout",
     "output_type": "stream",
     "text": [
      "13 11\n"
     ]
    }
   ],
   "source": [
    "print(x ,y)"
   ]
  },
  {
   "cell_type": "code",
   "execution_count": 32,
   "metadata": {},
   "outputs": [
    {
     "data": {
      "text/plain": [
       "tuple"
      ]
     },
     "execution_count": 32,
     "metadata": {},
     "output_type": "execute_result"
    }
   ],
   "source": [
    "type(starting_position)"
   ]
  },
  {
   "cell_type": "code",
   "execution_count": 35,
   "metadata": {},
   "outputs": [
    {
     "ename": "AttributeError",
     "evalue": "'tuple' object has no attribute 'item'",
     "output_type": "error",
     "traceback": [
      "\u001b[1;31m---------------------------------------------------------------------------\u001b[0m",
      "\u001b[1;31mAttributeError\u001b[0m                            Traceback (most recent call last)",
      "Cell \u001b[1;32mIn[35], line 1\u001b[0m\n\u001b[1;32m----> 1\u001b[0m \u001b[43mstarting_position\u001b[49m\u001b[38;5;241;43m.\u001b[39;49m\u001b[43mitem\u001b[49m(\u001b[38;5;241m1\u001b[39m)\n",
      "\u001b[1;31mAttributeError\u001b[0m: 'tuple' object has no attribute 'item'"
     ]
    }
   ],
   "source": [
    "starting_position.item(1)"
   ]
  },
  {
   "cell_type": "code",
   "execution_count": 34,
   "metadata": {},
   "outputs": [
    {
     "data": {
      "text/plain": [
       "numpy.ndarray"
      ]
     },
     "execution_count": 34,
     "metadata": {},
     "output_type": "execute_result"
    }
   ],
   "source": [
    "type(starting_position[0])"
   ]
  },
  {
   "cell_type": "code",
   "execution_count": 31,
   "metadata": {},
   "outputs": [
    {
     "data": {
      "text/plain": [
       "array(['020'], dtype='<U3')"
      ]
     },
     "execution_count": 31,
     "metadata": {},
     "output_type": "execute_result"
    }
   ],
   "source": [
    "items_and_orientation_2d_array[starting_position]"
   ]
  },
  {
   "cell_type": "code",
   "execution_count": 63,
   "metadata": {},
   "outputs": [
    {
     "data": {
      "text/plain": [
       "array([0, 1, 1])"
      ]
     },
     "execution_count": 63,
     "metadata": {},
     "output_type": "execute_result"
    }
   ],
   "source": [
    "np.append(np.array([0,1]),[1])"
   ]
  },
  {
   "cell_type": "code",
   "execution_count": 65,
   "metadata": {},
   "outputs": [],
   "source": [
    "ex1 = np.array([0,1])\n",
    "ex2 = np.array([2,3])\n",
    "ex3 = np.array([4,5])"
   ]
  },
  {
   "cell_type": "code",
   "execution_count": 70,
   "metadata": {},
   "outputs": [
    {
     "data": {
      "text/plain": [
       "array([[0, 1, 2, 3],\n",
       "       [0, 1, 4, 5]])"
      ]
     },
     "execution_count": 70,
     "metadata": {},
     "output_type": "execute_result"
    }
   ],
   "source": [
    "# a split item működhetne valahogy így:\n",
    "np.stack((np.append(ex1,ex2), np.append(ex1,ex3)))"
   ]
  },
  {
   "cell_type": "code",
   "execution_count": 68,
   "metadata": {},
   "outputs": [
    {
     "ename": "TypeError",
     "evalue": "only integer scalar arrays can be converted to a scalar index",
     "output_type": "error",
     "traceback": [
      "\u001b[1;31m---------------------------------------------------------------------------\u001b[0m",
      "\u001b[1;31mTypeError\u001b[0m                                 Traceback (most recent call last)",
      "Cell \u001b[1;32mIn[68], line 1\u001b[0m\n\u001b[1;32m----> 1\u001b[0m \u001b[43mnp\u001b[49m\u001b[38;5;241;43m.\u001b[39;49m\u001b[43mstack\u001b[49m\u001b[43m(\u001b[49m\u001b[43mex1\u001b[49m\u001b[43m,\u001b[49m\u001b[43mex2\u001b[49m\u001b[43m)\u001b[49m\n",
      "File \u001b[1;32m<__array_function__ internals>:200\u001b[0m, in \u001b[0;36mstack\u001b[1;34m(*args, **kwargs)\u001b[0m\n",
      "File \u001b[1;32m~\\AppData\\Local\\Programs\\Python\\Python311\\Lib\\site-packages\\numpy\\core\\shape_base.py:467\u001b[0m, in \u001b[0;36mstack\u001b[1;34m(arrays, axis, out, dtype, casting)\u001b[0m\n\u001b[0;32m    464\u001b[0m     \u001b[38;5;28;01mraise\u001b[39;00m \u001b[38;5;167;01mValueError\u001b[39;00m(\u001b[38;5;124m'\u001b[39m\u001b[38;5;124mall input arrays must have the same shape\u001b[39m\u001b[38;5;124m'\u001b[39m)\n\u001b[0;32m    466\u001b[0m result_ndim \u001b[38;5;241m=\u001b[39m arrays[\u001b[38;5;241m0\u001b[39m]\u001b[38;5;241m.\u001b[39mndim \u001b[38;5;241m+\u001b[39m \u001b[38;5;241m1\u001b[39m\n\u001b[1;32m--> 467\u001b[0m axis \u001b[38;5;241m=\u001b[39m \u001b[43mnormalize_axis_index\u001b[49m\u001b[43m(\u001b[49m\u001b[43maxis\u001b[49m\u001b[43m,\u001b[49m\u001b[43m \u001b[49m\u001b[43mresult_ndim\u001b[49m\u001b[43m)\u001b[49m\n\u001b[0;32m    469\u001b[0m sl \u001b[38;5;241m=\u001b[39m (\u001b[38;5;28mslice\u001b[39m(\u001b[38;5;28;01mNone\u001b[39;00m),) \u001b[38;5;241m*\u001b[39m axis \u001b[38;5;241m+\u001b[39m (_nx\u001b[38;5;241m.\u001b[39mnewaxis,)\n\u001b[0;32m    470\u001b[0m expanded_arrays \u001b[38;5;241m=\u001b[39m [arr[sl] \u001b[38;5;28;01mfor\u001b[39;00m arr \u001b[38;5;129;01min\u001b[39;00m arrays]\n",
      "\u001b[1;31mTypeError\u001b[0m: only integer scalar arrays can be converted to a scalar index"
     ]
    }
   ],
   "source": [
    "np.stack(ex1,ex2)"
   ]
  },
  {
   "cell_type": "code",
   "execution_count": null,
   "metadata": {},
   "outputs": [],
   "source": []
  },
  {
   "cell_type": "code",
   "execution_count": 18,
   "metadata": {},
   "outputs": [
    {
     "data": {
      "text/plain": [
       "array([['010', '010', '010', '010', '010', '010', '010', '010', '010', '010', '010', '010', '010',\n",
       "        '010'],\n",
       "       ['010', '043', '243', '243', '413', '363', '213', '243', '243', '243', '153', '040', '010',\n",
       "        '010'],\n",
       "       ['010', '242', '043', '563', '563', '563', '563', '563', '563', '563', '040', '620', '010',\n",
       "        '010'],\n",
       "       ['010', '242', '562', '043', '553', '553', '553', '553', '553', '040', '560', '240', '010',\n",
       "        '010'],\n",
       "       ['010', '242', '562', '552', '043', '543', '553', '553', '040', '550', '560', '440', '010',\n",
       "        '010'],\n",
       "       ['010', '242', '562', '552', '042', '541', '451', '051', '550', '550', '560', '620', '010',\n",
       "        '010'],\n",
       "       ['010', '242', '562', '552', '010', '010', '010', '162', '550', '550', '560', '160', '010',\n",
       "        '010'],\n",
       "       ['010', '572', '562', '552', '010', '010', '010', '162', '550', '550', '560', '160', '010',\n",
       "        '010'],\n",
       "       ['010', '572', '562', '552', '010', '030', '010', '362', '550', '550', '560', '160', '010',\n",
       "        '010'],\n",
       "       ['010', '572', '562', '552', '010', '053', '433', '052', '550', '550', '560', '160', '010',\n",
       "        '010'],\n",
       "       ['010', '572', '562', '042', '551', '551', '551', '551', '041', '550', '560', '510', '010',\n",
       "        '010'],\n",
       "       ['010', '562', '042', '561', '561', '551', '551', '551', '551', '041', '560', '470', '010',\n",
       "        '010'],\n",
       "       ['010', '042', '561', '561', '571', '571', '561', '561', '561', '561', '041', '480', '010',\n",
       "        '010'],\n",
       "       ['010', '010', '010', '010', '010', '010', '010', '010', '010', '010', '010', '020', '010',\n",
       "        '010']], dtype='<U3')"
      ]
     },
     "execution_count": 18,
     "metadata": {},
     "output_type": "execute_result"
    }
   ],
   "source": [
    "items_and_orientation_2d_array"
   ]
  },
  {
   "cell_type": "code",
   "execution_count": 20,
   "metadata": {
    "scrolled": true
   },
   "outputs": [
    {
     "name": "stdout",
     "output_type": "stream",
     "text": [
      "[['3x3' '3x3' '3x3' 'blue']\n",
      " ['3x3' 'longer_countdown' '3x3' 'blue']\n",
      " ['3x3' 'ejection_up' '3x3' 'blue']\n",
      " ['3x3' '3x3' '3x3' 'blue']]\n",
      "[['05' '05' '05' '06']\n",
      " ['05' '07' '05' '06']\n",
      " ['05' '01' '05' '06']\n",
      " ['05' '05' '05' '06']]\n",
      "[['010' '010' '010' '010' '010' '010' '010' '010' '010' '010' '010' '010' '010' '010']\n",
      " ['010' '043' '243' '243' '413' '363' '213' '243' '243' '243' '153' '040' '010' '010']\n",
      " ['010' '242' '043' '563' '563' '563' '563' '563' '563' '563' '040' '620' '010' '010']\n",
      " ['010' '242' '562' '043' '553' '553' '553' '553' '553' '040' '560' '240' '010' '010']\n",
      " ['010' '242' '562' '552' '043' '543' '553' '553' '040' '550' '560' '440' '010' '010']\n",
      " ['010' '242' '562' '552' '042' '541' '451' '051' '550' '550' '560' '620' '010' '010']\n",
      " ['010' '242' '562' '552' '010' '010' '010' '162' '550' '550' '560' '160' '010' '010']\n",
      " ['010' '572' '562' '552' '010' '010' '010' '162' '550' '550' '560' '160' '010' '010']\n",
      " ['010' '572' '562' '552' '010' '030' '010' '362' '550' '550' '560' '160' '010' '010']\n",
      " ['010' '572' '562' '552' '010' '053' '433' '052' '550' '550' '560' '160' '010' '010']\n",
      " ['010' '572' '562' '042' '551' '551' '551' '551' '041' '550' '560' '510' '010' '010']\n",
      " ['010' '562' '042' '561' '561' '551' '551' '551' '551' '041' '560' '470' '010' '010']\n",
      " ['010' '042' '561' '561' '571' '571' '561' '561' '561' '561' '041' '480' '010' '010']\n",
      " ['010' '010' '010' '010' '010' '010' '010' '010' '010' '010' '010' '020' '010' '010']]\n"
     ]
    }
   ],
   "source": [
    "custom_block_list, custom_block_name_2d_array, custom_block_id_2d_array, items_and_orientation_2d_array = parse_build(build)\n",
    "print(custom_block_name_2d_array)\n",
    "print(custom_block_id_2d_array)\n",
    "print(items_and_orientation_2d_array)"
   ]
  },
  {
   "cell_type": "code",
   "execution_count": null,
   "metadata": {},
   "outputs": [],
   "source": []
  },
  {
   "cell_type": "code",
   "execution_count": null,
   "metadata": {},
   "outputs": [],
   "source": []
  },
  {
   "cell_type": "code",
   "execution_count": 22,
   "metadata": {
    "scrolled": true
   },
   "outputs": [
    {
     "data": {
      "text/plain": [
       "array(['01', '01', '01', '01', '01', '01', '01', '01', '01', '01', '01', '01', '01', '01', '01',\n",
       "       '04', '24', '24', '41', '36', '21', '24', '24', '24', '15', '04', '01', '01', '01', '24',\n",
       "       '04', '56', '56', '56', '56', '56', '56', '56', '04', '62', '01', '01', '01', '24', '56',\n",
       "       '04', '55', '55', '55', '55', '55', '04', '56', '24', '01', '01', '01', '24', '56', '55',\n",
       "       '04', '54', '55', '55', '04', '55', '56', '44', '01', '01', '01', '24', '56', '55', '04',\n",
       "       '54', '45', '05', '55', '55', '56', '62', '01', '01', '01', '24', '56', '55', '01', '01',\n",
       "       '01', '16', '55', '55', '56', '16', '01', '01', '01', '57', '56', '55', '01', '01', '01',\n",
       "       '16', '55', '55', '56', '16', '01', '01', '01', '57', '56', '55', '01', '03', '01', '36',\n",
       "       '55', '55', '56', '16', '01', '01', '01', '57', '56', '55', '01', '05', '43', '05', '55',\n",
       "       '55', '56', '16', '01', '01', '01', '57', '56', '04', '55', '55', '55', '55', '04', '55',\n",
       "       '56', '51', '01', '01', '01', '56', '04', '56', '56', '55', '55', '55', '55', '04', '56',\n",
       "       '47', '01', '01', '01', '04', '56', '56', '57', '57', '56', '56', '56', '56', '04', '48',\n",
       "       '01', '01', '01', '01', '01', '01', '01', '01', '01', '01', '01', '01', '01', '02', '01',\n",
       "       '01'], dtype=object)"
      ]
     },
     "execution_count": 22,
     "metadata": {},
     "output_type": "execute_result"
    }
   ],
   "source": [
    "pd.Series(item_list).str[0:2].values"
   ]
  },
  {
   "cell_type": "code",
   "execution_count": null,
   "metadata": {},
   "outputs": [],
   "source": [
    "def item_mapper(item_list):\n",
    "    item_mapping = {'010'\n",
    "        \n",
    "\n",
    "}"
   ]
  },
  {
   "cell_type": "code",
   "execution_count": 27,
   "metadata": {
    "collapsed": true
   },
   "outputs": [
    {
     "name": "stdout",
     "output_type": "stream",
     "text": [
      "[['010' '010' '010' '010' '010' '010' '010' '010' '010' '010' '010' '010' '010' '010']\n",
      " ['010' '043' '243' '243' '413' '363' '213' '243' '243' '243' '153' '040' '010' '010']\n",
      " ['010' '242' '043' '563' '563' '563' '563' '563' '563' '563' '040' '620' '010' '010']\n",
      " ['010' '242' '562' '043' '553' '553' '553' '553' '553' '040' '560' '240' '010' '010']\n",
      " ['010' '242' '562' '552' '043' '543' '553' '553' '040' '550' '560' '440' '010' '010']\n",
      " ['010' '242' '562' '552' '042' '541' '451' '051' '550' '550' '560' '620' '010' '010']\n",
      " ['010' '242' '562' '552' '010' '010' '010' '162' '550' '550' '560' '160' '010' '010']\n",
      " ['010' '572' '562' '552' '010' '010' '010' '162' '550' '550' '560' '160' '010' '010']\n",
      " ['010' '572' '562' '552' '010' '030' '010' '362' '550' '550' '560' '160' '010' '010']\n",
      " ['010' '572' '562' '552' '010' '053' '433' '052' '550' '550' '560' '160' '010' '010']\n",
      " ['010' '572' '562' '042' '551' '551' '551' '551' '041' '550' '560' '510' '010' '010']\n",
      " ['010' '562' '042' '561' '561' '551' '551' '551' '551' '041' '560' '470' '010' '010']\n",
      " ['010' '042' '561' '561' '571' '571' '561' '561' '561' '561' '041' '480' '010' '010']\n",
      " ['010' '010' '010' '010' '010' '010' '010' '010' '010' '010' '010' '020' '010' '010']]\n"
     ]
    }
   ],
   "source": [
    "print(np.reshape(item_list, (14,14)))"
   ]
  },
  {
   "cell_type": "code",
   "execution_count": 6,
   "metadata": {},
   "outputs": [],
   "source": [
    "custom = build[0:1] # custom ship Y/N\n",
    "custom_blocks = build[1:33] # custom blocks\n",
    "custom_block_list = re.findall('..?',custom_blocks)\n",
    "custom_block_name_2d_array = np.reshape(custom_block_mapper(custom_block_list), (4,4))\n",
    "custom_block_id_2d_array = np.reshape(custom_block_list, (4,4))\n",
    "items = build[33:] #items\n",
    "item_list = re.findall('...?',items)"
   ]
  },
  {
   "cell_type": "code",
   "execution_count": null,
   "metadata": {},
   "outputs": [],
   "source": [
    "item_mapping = {\n",
    "\n",
    "}"
   ]
  },
  {
   "cell_type": "code",
   "execution_count": 17,
   "metadata": {},
   "outputs": [
    {
     "data": {
      "text/plain": [
       "['010',\n",
       " '010',\n",
       " '010',\n",
       " '010',\n",
       " '010',\n",
       " '010',\n",
       " '010',\n",
       " '010',\n",
       " '010',\n",
       " '010',\n",
       " '010',\n",
       " '010',\n",
       " '010',\n",
       " '010',\n",
       " '010',\n",
       " '010',\n",
       " '010',\n",
       " '050',\n",
       " '551',\n",
       " '051',\n",
       " '010',\n",
       " '050',\n",
       " '051',\n",
       " '010',\n",
       " '043',\n",
       " '040',\n",
       " '010',\n",
       " '010',\n",
       " '010',\n",
       " '010',\n",
       " '043',\n",
       " '300',\n",
       " '040',\n",
       " '552',\n",
       " '010',\n",
       " '550',\n",
       " '552',\n",
       " '010',\n",
       " '572',\n",
       " '430',\n",
       " '010',\n",
       " '010',\n",
       " '010',\n",
       " '050',\n",
       " '301',\n",
       " '041',\n",
       " '550',\n",
       " '552',\n",
       " '010',\n",
       " '550',\n",
       " '552',\n",
       " '010',\n",
       " '562',\n",
       " '420',\n",
       " '010',\n",
       " '010',\n",
       " '010',\n",
       " '240',\n",
       " '242',\n",
       " '010',\n",
       " '550',\n",
       " '552',\n",
       " '010',\n",
       " '550',\n",
       " '552',\n",
       " '010',\n",
       " '562',\n",
       " '410',\n",
       " '010',\n",
       " '010',\n",
       " '010',\n",
       " '240',\n",
       " '242',\n",
       " '010',\n",
       " '550',\n",
       " '552',\n",
       " '010',\n",
       " '550',\n",
       " '552',\n",
       " '010',\n",
       " '562',\n",
       " '360',\n",
       " '010',\n",
       " '010',\n",
       " '010',\n",
       " '240',\n",
       " '242',\n",
       " '010',\n",
       " '550',\n",
       " '552',\n",
       " '010',\n",
       " '550',\n",
       " '552',\n",
       " '010',\n",
       " '562',\n",
       " '210',\n",
       " '010',\n",
       " '010',\n",
       " '010',\n",
       " '240',\n",
       " '242',\n",
       " '010',\n",
       " '570',\n",
       " '552',\n",
       " '010',\n",
       " '550',\n",
       " '552',\n",
       " '010',\n",
       " '562',\n",
       " '260',\n",
       " '010',\n",
       " '010',\n",
       " '010',\n",
       " '240',\n",
       " '242',\n",
       " '010',\n",
       " '550',\n",
       " '552',\n",
       " '010',\n",
       " '550',\n",
       " '552',\n",
       " '010',\n",
       " '552',\n",
       " '160',\n",
       " '010',\n",
       " '010',\n",
       " '010',\n",
       " '053',\n",
       " '052',\n",
       " '010',\n",
       " '280',\n",
       " '552',\n",
       " '010',\n",
       " '550',\n",
       " '552',\n",
       " '010',\n",
       " '552',\n",
       " '160',\n",
       " '010',\n",
       " '010',\n",
       " '010',\n",
       " '010',\n",
       " '010',\n",
       " '010',\n",
       " '280',\n",
       " '042',\n",
       " '551',\n",
       " '041',\n",
       " '572',\n",
       " '010',\n",
       " '552',\n",
       " '510',\n",
       " '010',\n",
       " '010',\n",
       " '010',\n",
       " '010',\n",
       " '030',\n",
       " '010',\n",
       " '053',\n",
       " '153',\n",
       " '153',\n",
       " '651',\n",
       " '572',\n",
       " '010',\n",
       " '552',\n",
       " '480',\n",
       " '010',\n",
       " '010',\n",
       " '010',\n",
       " '010',\n",
       " '053',\n",
       " '363',\n",
       " '163',\n",
       " '163',\n",
       " '453',\n",
       " '343',\n",
       " '052',\n",
       " '010',\n",
       " '642',\n",
       " '470',\n",
       " '010',\n",
       " '010',\n",
       " '010',\n",
       " '010',\n",
       " '010',\n",
       " '010',\n",
       " '010',\n",
       " '010',\n",
       " '010',\n",
       " '010',\n",
       " '010',\n",
       " '010',\n",
       " '010',\n",
       " '020',\n",
       " '010',\n",
       " '010']"
      ]
     },
     "execution_count": 17,
     "metadata": {},
     "output_type": "execute_result"
    }
   ],
   "source": [
    "item_list"
   ]
  },
  {
   "cell_type": "markdown",
   "metadata": {},
   "source": [
    "to do:\n",
    "item_list-re csinálni mappelőt.\n",
    "megírni a kezdő pontot az array-re.\n",
    "megírni egy functiont ami elindul a path-on és úgy teszi sorba az itemeket egy listába\n",
    "a direction-t kitalálni, hogy melyik mi. Gondolom a 0 az up.\n"
   ]
  },
  {
   "cell_type": "code",
   "execution_count": 18,
   "metadata": {
    "scrolled": false
   },
   "outputs": [
    {
     "name": "stdout",
     "output_type": "stream",
     "text": [
      "[['010' '010' '010' '010' '010' '010' '010' '010' '010' '010' '010' '010' '010' '010']\n",
      " ['010' '010' '010' '050' '551' '051' '010' '050' '051' '010' '043' '040' '010' '010']\n",
      " ['010' '010' '043' '300' '040' '552' '010' '550' '552' '010' '572' '430' '010' '010']\n",
      " ['010' '050' '301' '041' '550' '552' '010' '550' '552' '010' '562' '420' '010' '010']\n",
      " ['010' '240' '242' '010' '550' '552' '010' '550' '552' '010' '562' '410' '010' '010']\n",
      " ['010' '240' '242' '010' '550' '552' '010' '550' '552' '010' '562' '360' '010' '010']\n",
      " ['010' '240' '242' '010' '550' '552' '010' '550' '552' '010' '562' '210' '010' '010']\n",
      " ['010' '240' '242' '010' '570' '552' '010' '550' '552' '010' '562' '260' '010' '010']\n",
      " ['010' '240' '242' '010' '550' '552' '010' '550' '552' '010' '552' '160' '010' '010']\n",
      " ['010' '053' '052' '010' '280' '552' '010' '550' '552' '010' '552' '160' '010' '010']\n",
      " ['010' '010' '010' '010' '280' '042' '551' '041' '572' '010' '552' '510' '010' '010']\n",
      " ['010' '010' '030' '010' '053' '153' '153' '651' '572' '010' '552' '480' '010' '010']\n",
      " ['010' '010' '053' '363' '163' '163' '453' '343' '052' '010' '642' '470' '010' '010']\n",
      " ['010' '010' '010' '010' '010' '010' '010' '010' '010' '010' '010' '020' '010' '010']]\n"
     ]
    }
   ],
   "source": [
    "print(np.reshape(item_list, (14,14)))"
   ]
  },
  {
   "cell_type": "code",
   "execution_count": 9,
   "metadata": {},
   "outputs": [],
   "source": [
    "custom_block_mapping = {'01':'ejection_up', '02':'auto_fly', '03':'second_try'\n",
    "                        , '04':'manual_burst', '05':'3x3', '06':'blue'\n",
    "                        , '07':'longer_countdown', '08':'light_green', '09':'skipp'\n",
    "                        , '10':'10%_more', '11':'ejection_side', '12':'red_after_wave'}"
   ]
  },
  {
   "cell_type": "code",
   "execution_count": 13,
   "metadata": {},
   "outputs": [
    {
     "data": {
      "text/plain": [
       "array([['09', '06', '06', '06'],\n",
       "       ['06', '06', '06', '06'],\n",
       "       ['06', '06', '06', '06'],\n",
       "       ['01', '05', '06', '06']], dtype='<U2')"
      ]
     },
     "execution_count": 13,
     "metadata": {},
     "output_type": "execute_result"
    }
   ],
   "source": [
    "custom_block_2d_array = np.reshape(custom_block_list, (4,4))\n",
    "custom_block_2d_array"
   ]
  },
  {
   "cell_type": "code",
   "execution_count": 20,
   "metadata": {},
   "outputs": [
    {
     "data": {
      "text/plain": [
       "array([['skipp', 'blue', 'blue', 'blue'],\n",
       "       ['blue', 'blue', 'blue', 'blue'],\n",
       "       ['blue', 'blue', 'blue', 'blue'],\n",
       "       ['ejection_up', '3x3', 'blue', 'blue']], dtype='<U11')"
      ]
     },
     "execution_count": 20,
     "metadata": {},
     "output_type": "execute_result"
    }
   ],
   "source": [
    "#3d array transformation for custom ship blocks\n",
    "np.reshape(custom_block_mapper(custom_block_list), (4,4))"
   ]
  },
  {
   "cell_type": "code",
   "execution_count": null,
   "metadata": {},
   "outputs": [],
   "source": [
    "def custom_block_mapper(custom_block_number):\n",
    "    custom_block_mapping = {'01':'ejection_up', '02':'auto_fly', '03':'second_try'\n",
    "                        , '04':'manual_burst', '05':'3x3', '06':'blue'\n",
    "                        , '07':'longer_countdown', '08':'light_green', '09':'skipp'\n",
    "                        , '10':'10%_more', '11':'ejection_side', '12':'red_after_wave'}\n",
    "    custom_block_element_name = [custom_block_mapping[x] for x in custom_block_number]\n",
    "    return custom_block_element_name"
   ]
  },
  {
   "cell_type": "code",
   "execution_count": null,
   "metadata": {},
   "outputs": [
    {
     "data": {
      "text/plain": [
       "['010',\n",
       " '010',\n",
       " '010',\n",
       " '010',\n",
       " '010',\n",
       " '010',\n",
       " '010',\n",
       " '010',\n",
       " '010',\n",
       " '010',\n",
       " '010',\n",
       " '010',\n",
       " '010',\n",
       " '010',\n",
       " '010',\n",
       " '010',\n",
       " '010',\n",
       " '050',\n",
       " '551',\n",
       " '051',\n",
       " '010',\n",
       " '050',\n",
       " '051',\n",
       " '010',\n",
       " '043',\n",
       " '040',\n",
       " '010',\n",
       " '010',\n",
       " '010',\n",
       " '010',\n",
       " '043',\n",
       " '300',\n",
       " '040',\n",
       " '552',\n",
       " '010',\n",
       " '550',\n",
       " '552',\n",
       " '010',\n",
       " '572',\n",
       " '430',\n",
       " '010',\n",
       " '010',\n",
       " '010',\n",
       " '050',\n",
       " '301',\n",
       " '041',\n",
       " '550',\n",
       " '552',\n",
       " '010',\n",
       " '550',\n",
       " '552',\n",
       " '010',\n",
       " '562',\n",
       " '420',\n",
       " '010',\n",
       " '010',\n",
       " '010',\n",
       " '240',\n",
       " '242',\n",
       " '010',\n",
       " '550',\n",
       " '552',\n",
       " '010',\n",
       " '550',\n",
       " '552',\n",
       " '010',\n",
       " '562',\n",
       " '410',\n",
       " '010',\n",
       " '010',\n",
       " '010',\n",
       " '240',\n",
       " '242',\n",
       " '010',\n",
       " '550',\n",
       " '552',\n",
       " '010',\n",
       " '550',\n",
       " '552',\n",
       " '010',\n",
       " '562',\n",
       " '360',\n",
       " '010',\n",
       " '010',\n",
       " '010',\n",
       " '240',\n",
       " '242',\n",
       " '010',\n",
       " '550',\n",
       " '552',\n",
       " '010',\n",
       " '550',\n",
       " '552',\n",
       " '010',\n",
       " '562',\n",
       " '210',\n",
       " '010',\n",
       " '010',\n",
       " '010',\n",
       " '240',\n",
       " '242',\n",
       " '010',\n",
       " '570',\n",
       " '552',\n",
       " '010',\n",
       " '550',\n",
       " '552',\n",
       " '010',\n",
       " '562',\n",
       " '260',\n",
       " '010',\n",
       " '010',\n",
       " '010',\n",
       " '240',\n",
       " '242',\n",
       " '010',\n",
       " '550',\n",
       " '552',\n",
       " '010',\n",
       " '550',\n",
       " '552',\n",
       " '010',\n",
       " '552',\n",
       " '160',\n",
       " '010',\n",
       " '010',\n",
       " '010',\n",
       " '053',\n",
       " '052',\n",
       " '010',\n",
       " '280',\n",
       " '552',\n",
       " '010',\n",
       " '550',\n",
       " '552',\n",
       " '010',\n",
       " '552',\n",
       " '160',\n",
       " '010',\n",
       " '010',\n",
       " '010',\n",
       " '010',\n",
       " '010',\n",
       " '010',\n",
       " '280',\n",
       " '042',\n",
       " '551',\n",
       " '041',\n",
       " '572',\n",
       " '010',\n",
       " '552',\n",
       " '510',\n",
       " '010',\n",
       " '010',\n",
       " '010',\n",
       " '010',\n",
       " '030',\n",
       " '010',\n",
       " '053',\n",
       " '153',\n",
       " '153',\n",
       " '651',\n",
       " '572',\n",
       " '010',\n",
       " '552',\n",
       " '480',\n",
       " '010',\n",
       " '010',\n",
       " '010',\n",
       " '010',\n",
       " '053',\n",
       " '363',\n",
       " '163',\n",
       " '163',\n",
       " '453',\n",
       " '343',\n",
       " '052',\n",
       " '010',\n",
       " '642',\n",
       " '470',\n",
       " '010',\n",
       " '010',\n",
       " '010',\n",
       " '010',\n",
       " '010',\n",
       " '010',\n",
       " '010',\n",
       " '010',\n",
       " '010',\n",
       " '010',\n",
       " '010',\n",
       " '010',\n",
       " '010',\n",
       " '020',\n",
       " '010',\n",
       " '010']"
      ]
     },
     "execution_count": 6,
     "metadata": {},
     "output_type": "execute_result"
    }
   ],
   "source": [
    "item_list"
   ]
  },
  {
   "cell_type": "code",
   "execution_count": null,
   "metadata": {},
   "outputs": [],
   "source": [
    "item_list = re.findall('...?',items)"
   ]
  },
  {
   "cell_type": "code",
   "execution_count": null,
   "metadata": {},
   "outputs": [
    {
     "data": {
      "text/plain": [
       "'010010010010010010010010010010010010010010010010010050551051010050051010043040010010010010043300040552010550552010572430010010010050301041550552010550552010562420010010010240242010550552010550552010562410010010010240242010550552010550552010562360010010010240242010550552010550552010562210010010010240242010570552010550552010562260010010010240242010550552010550552010552160010010010053052010280552010550552010552160010010010010010010280042551041572010552510010010010010030010053153153651572010552480010010010010053363163163453343052010642470010010010010010010010010010010010010010020010010'"
      ]
     },
     "execution_count": 4,
     "metadata": {},
     "output_type": "execute_result"
    }
   ],
   "source": [
    "build_example[33:] items"
   ]
  },
  {
   "cell_type": "code",
   "execution_count": null,
   "metadata": {},
   "outputs": [],
   "source": []
  }
 ],
 "metadata": {
  "kernelspec": {
   "display_name": "Python 3 (ipykernel)",
   "language": "python",
   "name": "python3"
  },
  "language_info": {
   "codemirror_mode": {
    "name": "ipython",
    "version": 3
   },
   "file_extension": ".py",
   "mimetype": "text/x-python",
   "name": "python",
   "nbconvert_exporter": "python",
   "pygments_lexer": "ipython3",
   "version": "3.11.1"
  },
  "vscode": {
   "interpreter": {
    "hash": "d2cae70fa6d101c531ceb62b46f547c673f511379956db15f07795792cc55efe"
   }
  }
 },
 "nbformat": 4,
 "nbformat_minor": 2
}
